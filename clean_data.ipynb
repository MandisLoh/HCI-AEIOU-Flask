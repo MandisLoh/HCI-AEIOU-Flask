{
 "cells": [
  {
   "cell_type": "code",
   "execution_count": 1,
   "metadata": {},
   "outputs": [
    {
     "name": "stderr",
     "output_type": "stream",
     "text": [
      "[nltk_data] Downloading package stopwords to\n",
      "[nltk_data]     C:\\Users\\mandi\\AppData\\Roaming\\nltk_data...\n",
      "[nltk_data]   Package stopwords is already up-to-date!\n"
     ]
    },
    {
     "data": {
      "text/plain": [
       "True"
      ]
     },
     "execution_count": 1,
     "metadata": {},
     "output_type": "execute_result"
    }
   ],
   "source": [
    "import numpy as np\n",
    "import pandas as pd\n",
    "import matplotlib.pyplot as plt\n",
    "\n",
    "from sklearn.feature_extraction.text import TfidfVectorizer, ENGLISH_STOP_WORDS\n",
    "from sklearn.pipeline import make_pipeline\n",
    "from sklearn.decomposition import PCA\n",
    "from sklearn.cluster import KMeans, MiniBatchKMeans\n",
    "from sklearn.manifold import TSNE\n",
    "from sklearn.decomposition import TruncatedSVD \n",
    "from sklearn.preprocessing import normalize \n",
    "\n",
    "\n",
    "from sklearn import metrics\n",
    "import nltk\n",
    "import os\n",
    "from nltk.corpus import stopwords\n",
    "from textblob import Word\n",
    "from sklearn.linear_model import SGDClassifier\n",
    "from sklearn.model_selection import GridSearchCV\n",
    "from sklearn.ensemble import RandomForestClassifier\n",
    "from sklearn.linear_model import LogisticRegression\n",
    "from sklearn.model_selection import train_test_split\n",
    "from sklearn.metrics import confusion_matrix\n",
    "from sklearn.metrics import classification_report\n",
    "nltk.download(\"stopwords\")\n"
   ]
  },
  {
   "cell_type": "code",
   "execution_count": 2,
   "metadata": {},
   "outputs": [
    {
     "data": {
      "text/html": [
       "<div>\n",
       "<style scoped>\n",
       "    .dataframe tbody tr th:only-of-type {\n",
       "        vertical-align: middle;\n",
       "    }\n",
       "\n",
       "    .dataframe tbody tr th {\n",
       "        vertical-align: top;\n",
       "    }\n",
       "\n",
       "    .dataframe thead th {\n",
       "        text-align: right;\n",
       "    }\n",
       "</style>\n",
       "<table border=\"1\" class=\"dataframe\">\n",
       "  <thead>\n",
       "    <tr style=\"text-align: right;\">\n",
       "      <th></th>\n",
       "      <th>Subject</th>\n",
       "      <th>Body</th>\n",
       "      <th>Categories</th>\n",
       "      <th>Importance</th>\n",
       "      <th>Sensitivity</th>\n",
       "    </tr>\n",
       "  </thead>\n",
       "  <tbody>\n",
       "    <tr>\n",
       "      <th>0</th>\n",
       "      <td>Welcome back email for Term 3 Freshmore</td>\n",
       "      <td>Dear Cohort 2 Students,\\n\\n \\n\\nWelcome back f...</td>\n",
       "      <td>NaN</td>\n",
       "      <td>Normal</td>\n",
       "      <td>Normal</td>\n",
       "    </tr>\n",
       "    <tr>\n",
       "      <th>1</th>\n",
       "      <td>SC06 Group 8 HOA1 Submission</td>\n",
       "      <td>Hi prof,\\r\\n\\r\\n               Attached  is ou...</td>\n",
       "      <td>NaN</td>\n",
       "      <td>Normal</td>\n",
       "      <td>Normal</td>\n",
       "    </tr>\n",
       "    <tr>\n",
       "      <th>2</th>\n",
       "      <td>🥋SUTD KARATE INTRO SESSION!!🥋</td>\n",
       "      <td>Hiya!\\n\\nReady to get a full body workout?!? P...</td>\n",
       "      <td>NaN</td>\n",
       "      <td>Normal</td>\n",
       "      <td>Normal</td>\n",
       "    </tr>\n",
       "    <tr>\n",
       "      <th>3</th>\n",
       "      <td>Register Now - SSIA Summit 2021 (30 Sept 2021)</td>\n",
       "      <td>Dear SUTD Community,\\r\\n\\r\\n \\r\\n\\r\\nYou are c...</td>\n",
       "      <td>NaN</td>\n",
       "      <td>Normal</td>\n",
       "      <td>Normal</td>\n",
       "    </tr>\n",
       "    <tr>\n",
       "      <th>4</th>\n",
       "      <td>HASS Minors Info Session</td>\n",
       "      <td>HAPPENING TODAY!\\r\\n\\r\\n \\r\\n\\r\\nDear Freshmor...</td>\n",
       "      <td>NaN</td>\n",
       "      <td>Normal</td>\n",
       "      <td>Normal</td>\n",
       "    </tr>\n",
       "    <tr>\n",
       "      <th>...</th>\n",
       "      <td>...</td>\n",
       "      <td>...</td>\n",
       "      <td>...</td>\n",
       "      <td>...</td>\n",
       "      <td>...</td>\n",
       "    </tr>\n",
       "    <tr>\n",
       "      <th>524</th>\n",
       "      <td>Natalie mentioned 10.020 Data Driven World (Fa...</td>\n",
       "      <td>External Email – Do not click on any links or ...</td>\n",
       "      <td>NaN</td>\n",
       "      <td>Normal</td>\n",
       "      <td>Normal</td>\n",
       "    </tr>\n",
       "    <tr>\n",
       "      <th>525</th>\n",
       "      <td>#ProjectYOU 2021 - Bold@Work Juraseek Playgrou...</td>\n",
       "      <td>\\r\\nHello there! \\r\\n\\r\\n  \\r\\n\\r\\n \\r\\n\\r\\n  ...</td>\n",
       "      <td>NaN</td>\n",
       "      <td>Normal</td>\n",
       "      <td>Normal</td>\n",
       "    </tr>\n",
       "    <tr>\n",
       "      <th>526</th>\n",
       "      <td>RE: [Update] Postponement of Lazarus Island Di...</td>\n",
       "      <td>Hi all, \\r\\n\\r\\n \\r\\n\\r\\nIn view of the latest...</td>\n",
       "      <td>NaN</td>\n",
       "      <td>Normal</td>\n",
       "      <td>Normal</td>\n",
       "    </tr>\n",
       "    <tr>\n",
       "      <th>527</th>\n",
       "      <td>[Update] Athletics Introduction Session</td>\n",
       "      <td>Dear Freshmore and SUTDents,\\r\\n\\r\\n\\r\\n\\r\\n\\r...</td>\n",
       "      <td>NaN</td>\n",
       "      <td>Normal</td>\n",
       "      <td>Normal</td>\n",
       "    </tr>\n",
       "    <tr>\n",
       "      <th>528</th>\n",
       "      <td>Summary of coverage: Highlights of SUTD</td>\n",
       "      <td>Hi All,\\r\\n\\r\\n \\r\\n\\r\\nHere’s the news covera...</td>\n",
       "      <td>NaN</td>\n",
       "      <td>NaN</td>\n",
       "      <td>NaN</td>\n",
       "    </tr>\n",
       "  </tbody>\n",
       "</table>\n",
       "<p>529 rows × 5 columns</p>\n",
       "</div>"
      ],
      "text/plain": [
       "                                               Subject  \\\n",
       "0              Welcome back email for Term 3 Freshmore   \n",
       "1                         SC06 Group 8 HOA1 Submission   \n",
       "2                        🥋SUTD KARATE INTRO SESSION!!🥋   \n",
       "3       Register Now - SSIA Summit 2021 (30 Sept 2021)   \n",
       "4                             HASS Minors Info Session   \n",
       "..                                                 ...   \n",
       "524  Natalie mentioned 10.020 Data Driven World (Fa...   \n",
       "525  #ProjectYOU 2021 - Bold@Work Juraseek Playgrou...   \n",
       "526  RE: [Update] Postponement of Lazarus Island Di...   \n",
       "527           [Update] Athletics Introduction Session    \n",
       "528            Summary of coverage: Highlights of SUTD   \n",
       "\n",
       "                                                  Body  Categories Importance  \\\n",
       "0    Dear Cohort 2 Students,\\n\\n \\n\\nWelcome back f...         NaN     Normal   \n",
       "1    Hi prof,\\r\\n\\r\\n               Attached  is ou...         NaN     Normal   \n",
       "2    Hiya!\\n\\nReady to get a full body workout?!? P...         NaN     Normal   \n",
       "3    Dear SUTD Community,\\r\\n\\r\\n \\r\\n\\r\\nYou are c...         NaN     Normal   \n",
       "4    HAPPENING TODAY!\\r\\n\\r\\n \\r\\n\\r\\nDear Freshmor...         NaN     Normal   \n",
       "..                                                 ...         ...        ...   \n",
       "524  External Email – Do not click on any links or ...         NaN     Normal   \n",
       "525  \\r\\nHello there! \\r\\n\\r\\n  \\r\\n\\r\\n \\r\\n\\r\\n  ...         NaN     Normal   \n",
       "526  Hi all, \\r\\n\\r\\n \\r\\n\\r\\nIn view of the latest...         NaN     Normal   \n",
       "527  Dear Freshmore and SUTDents,\\r\\n\\r\\n\\r\\n\\r\\n\\r...         NaN     Normal   \n",
       "528  Hi All,\\r\\n\\r\\n \\r\\n\\r\\nHere’s the news covera...         NaN        NaN   \n",
       "\n",
       "    Sensitivity  \n",
       "0        Normal  \n",
       "1        Normal  \n",
       "2        Normal  \n",
       "3        Normal  \n",
       "4        Normal  \n",
       "..          ...  \n",
       "524      Normal  \n",
       "525      Normal  \n",
       "526      Normal  \n",
       "527      Normal  \n",
       "528         NaN  \n",
       "\n",
       "[529 rows x 5 columns]"
      ]
     },
     "execution_count": 2,
     "metadata": {},
     "output_type": "execute_result"
    }
   ],
   "source": [
    "df = pd.read_csv(\"Outlook_mail.csv\")\n",
    "df"
   ]
  },
  {
   "cell_type": "code",
   "execution_count": 3,
   "metadata": {},
   "outputs": [
    {
     "data": {
      "text/html": [
       "<div>\n",
       "<style scoped>\n",
       "    .dataframe tbody tr th:only-of-type {\n",
       "        vertical-align: middle;\n",
       "    }\n",
       "\n",
       "    .dataframe tbody tr th {\n",
       "        vertical-align: top;\n",
       "    }\n",
       "\n",
       "    .dataframe thead th {\n",
       "        text-align: right;\n",
       "    }\n",
       "</style>\n",
       "<table border=\"1\" class=\"dataframe\">\n",
       "  <thead>\n",
       "    <tr style=\"text-align: right;\">\n",
       "      <th></th>\n",
       "      <th>Subject</th>\n",
       "      <th>Categories</th>\n",
       "      <th>Importance</th>\n",
       "      <th>Sensitivity</th>\n",
       "      <th>match</th>\n",
       "      <th>Body</th>\n",
       "    </tr>\n",
       "  </thead>\n",
       "  <tbody>\n",
       "    <tr>\n",
       "      <th>0</th>\n",
       "      <td>Welcome back email for Term 3 Freshmore</td>\n",
       "      <td>NaN</td>\n",
       "      <td>Normal</td>\n",
       "      <td>Normal</td>\n",
       "      <td>0.0</td>\n",
       "      <td>dear cohort 2 student</td>\n",
       "    </tr>\n",
       "    <tr>\n",
       "      <th>0</th>\n",
       "      <td>Welcome back email for Term 3 Freshmore</td>\n",
       "      <td>NaN</td>\n",
       "      <td>Normal</td>\n",
       "      <td>Normal</td>\n",
       "      <td>1.0</td>\n",
       "      <td>welcome back vacation</td>\n",
       "    </tr>\n",
       "    <tr>\n",
       "      <th>0</th>\n",
       "      <td>Welcome back email for Term 3 Freshmore</td>\n",
       "      <td>NaN</td>\n",
       "      <td>Normal</td>\n",
       "      <td>Normal</td>\n",
       "      <td>2.0</td>\n",
       "      <td>hope good 4 month break</td>\n",
       "    </tr>\n",
       "    <tr>\n",
       "      <th>0</th>\n",
       "      <td>Welcome back email for Term 3 Freshmore</td>\n",
       "      <td>NaN</td>\n",
       "      <td>Normal</td>\n",
       "      <td>Normal</td>\n",
       "      <td>3.0</td>\n",
       "      <td>many upcoming activity event cdc</td>\n",
       "    </tr>\n",
       "    <tr>\n",
       "      <th>0</th>\n",
       "      <td>Welcome back email for Term 3 Freshmore</td>\n",
       "      <td>NaN</td>\n",
       "      <td>Normal</td>\n",
       "      <td>Normal</td>\n",
       "      <td>4.0</td>\n",
       "      <td>head</td>\n",
       "    </tr>\n",
       "    <tr>\n",
       "      <th>...</th>\n",
       "      <td>...</td>\n",
       "      <td>...</td>\n",
       "      <td>...</td>\n",
       "      <td>...</td>\n",
       "      <td>...</td>\n",
       "      <td>...</td>\n",
       "    </tr>\n",
       "    <tr>\n",
       "      <th>528</th>\n",
       "      <td>Summary of coverage Highlights of SUTD</td>\n",
       "      <td>NaN</td>\n",
       "      <td>NaN</td>\n",
       "      <td>NaN</td>\n",
       "      <td>472.0</td>\n",
       "      <td>prospective applicant may refer ntu</td>\n",
       "    </tr>\n",
       "    <tr>\n",
       "      <th>528</th>\n",
       "      <td>Summary of coverage Highlights of SUTD</td>\n",
       "      <td>NaN</td>\n",
       "      <td>NaN</td>\n",
       "      <td>NaN</td>\n",
       "      <td>473.0</td>\n",
       "      <td>national university singapore</td>\n",
       "    </tr>\n",
       "    <tr>\n",
       "      <th>528</th>\n",
       "      <td>Summary of coverage Highlights of SUTD</td>\n",
       "      <td>NaN</td>\n",
       "      <td>NaN</td>\n",
       "      <td>NaN</td>\n",
       "      <td>474.0</td>\n",
       "      <td>singapore management university singapore univ...</td>\n",
       "    </tr>\n",
       "    <tr>\n",
       "      <th>528</th>\n",
       "      <td>Summary of coverage Highlights of SUTD</td>\n",
       "      <td>NaN</td>\n",
       "      <td>NaN</td>\n",
       "      <td>NaN</td>\n",
       "      <td>475.0</td>\n",
       "      <td>strait time</td>\n",
       "    </tr>\n",
       "    <tr>\n",
       "      <th>528</th>\n",
       "      <td>Summary of coverage Highlights of SUTD</td>\n",
       "      <td>NaN</td>\n",
       "      <td>NaN</td>\n",
       "      <td>NaN</td>\n",
       "      <td>476.0</td>\n",
       "      <td>22 sep 2021</td>\n",
       "    </tr>\n",
       "  </tbody>\n",
       "</table>\n",
       "<p>43586 rows × 6 columns</p>\n",
       "</div>"
      ],
      "text/plain": [
       "                                     Subject  Categories Importance  \\\n",
       "0    Welcome back email for Term 3 Freshmore         NaN     Normal   \n",
       "0    Welcome back email for Term 3 Freshmore         NaN     Normal   \n",
       "0    Welcome back email for Term 3 Freshmore         NaN     Normal   \n",
       "0    Welcome back email for Term 3 Freshmore         NaN     Normal   \n",
       "0    Welcome back email for Term 3 Freshmore         NaN     Normal   \n",
       "..                                       ...         ...        ...   \n",
       "528   Summary of coverage Highlights of SUTD         NaN        NaN   \n",
       "528   Summary of coverage Highlights of SUTD         NaN        NaN   \n",
       "528   Summary of coverage Highlights of SUTD         NaN        NaN   \n",
       "528   Summary of coverage Highlights of SUTD         NaN        NaN   \n",
       "528   Summary of coverage Highlights of SUTD         NaN        NaN   \n",
       "\n",
       "    Sensitivity  match                                               Body  \n",
       "0        Normal    0.0                              dear cohort 2 student  \n",
       "0        Normal    1.0                              welcome back vacation  \n",
       "0        Normal    2.0                            hope good 4 month break  \n",
       "0        Normal    3.0                   many upcoming activity event cdc  \n",
       "0        Normal    4.0                                               head  \n",
       "..          ...    ...                                                ...  \n",
       "528         NaN  472.0                prospective applicant may refer ntu  \n",
       "528         NaN  473.0                      national university singapore  \n",
       "528         NaN  474.0  singapore management university singapore univ...  \n",
       "528         NaN  475.0                                        strait time  \n",
       "528         NaN  476.0                                        22 sep 2021  \n",
       "\n",
       "[43586 rows x 6 columns]"
      ]
     },
     "execution_count": 3,
     "metadata": {},
     "output_type": "execute_result"
    }
   ],
   "source": [
    "df['Body'] = df['Body'].apply(lambda x: x.lower())\n",
    "punctuations = ',\\.\\!\\?'\n",
    "df = (df.drop('Body',axis=1).merge(df.Body.str.extractall(f'(?P<Body>[^{punctuations}]+[{punctuations}])\\s?').reset_index('match'),left_index=True, right_index=True, how='left'))\n",
    "df['Body'] = df['Body'].str.replace(\"[^\\w\\s<>]\", \"\")\n",
    "df = df.replace(r'[^0-9a-zA-Z ]', '', regex=True).replace(\"'\", '')\n",
    "#print(type(df['Body']))\n",
    "#df.applymap(type)\n",
    "df['Body'] = df['Body'].astype(str)\n",
    "df['Body'] = df['Body'].apply(lambda x: \" \".join([Word(word).lemmatize() for word in x.split()])) # change similar terms to the same\n",
    "stop = stopwords.words(\"english\") #remove useless words\n",
    "df['Body'] = df['Body'].apply(lambda x: \" \".join(x for x in x.split() if x not in stop))\n",
    "\n",
    "df"
   ]
  },
  {
   "cell_type": "code",
   "execution_count": 4,
   "metadata": {},
   "outputs": [],
   "source": [
    "#vect = TfidfVectorizer(stop_words='english', max_df=0.50, min_df=2)\n",
    "\n",
    "# max_df removes words that appears more than _%\n",
    "# min_df removes words that appears less than _\n",
    "\n",
    "vect = TfidfVectorizer(ngram_range=(1,3),\n",
    "                     min_df = 200,\n",
    "                     max_df = 0.4,\n",
    "                     token_pattern=u'(?ui)\\\\b\\\\w*[a-z]+\\\\w*[a-z]+\\\\w*\\\\b')\n",
    "X = vect.fit_transform(df['Body'].values.astype('U'))"
   ]
  },
  {
   "cell_type": "code",
   "execution_count": 5,
   "metadata": {},
   "outputs": [
    {
     "data": {
      "image/png": "[encoded data removed]",
      "text/plain": [
       "<Figure size 432x288 with 1 Axes>"
      ]
     },
     "metadata": {
      "needs_background": "light"
     },
     "output_type": "display_data"
    }
   ],
   "source": [
    "X_dense = X.todense()\n",
    "coords = PCA(n_components=2).fit_transform(X_dense)\n",
    "plt.scatter(coords[:, 0], coords[:, 1], c='m')\n",
    "plt.show()"
   ]
  },
  {
   "cell_type": "code",
   "execution_count": 6,
   "metadata": {},
   "outputs": [
    {
     "name": "stdout",
     "output_type": "stream",
     "text": [
      "    features  score\n",
      "0       zoom    0.0\n",
      "1         ha    0.0\n",
      "2     office    0.0\n",
      "3        new    0.0\n",
      "4  microsoft    0.0\n",
      "5       link    0.0\n",
      "6       like    0.0\n",
      "7      learn    0.0\n",
      "8       join    0.0\n",
      "9  instagram    0.0\n"
     ]
    }
   ],
   "source": [
    "# top keywords in the emails\n",
    "\n",
    "def top_tfidf_feats(row, features, top_n=20000):\n",
    "    topn_ids = np.argsort(row)[::-1][:top_n]\n",
    "    top_feats = [(features[i], row[i]) for i in topn_ids]\n",
    "    df = pd.DataFrame(top_feats, columns=['features', 'score'])\n",
    "    return df\n",
    "def top_feats_in_doc(X, features, row_id, top_n=25):\n",
    "    row = np.squeeze(X[row_id].toarray())\n",
    "    return top_tfidf_feats(row, features, top_n)\n",
    "\n",
    "features = vect.get_feature_names()\n",
    "print(top_feats_in_doc(X, features, 1, 10))"
   ]
  },
  {
   "cell_type": "code",
   "execution_count": 7,
   "metadata": {},
   "outputs": [
    {
     "name": "stdout",
     "output_type": "stream",
     "text": [
      "            features     score\n",
      "0               sutd  0.067003\n",
      "1                edu  0.064895\n",
      "2                com  0.050305\n",
      "3         protection  0.048478\n",
      "4            outlook  0.048421\n",
      "5          safelinks  0.048295\n",
      "6         httpsapc01  0.041178\n",
      "7            student  0.014568\n",
      "8  urlhttps3a2f2fwww  0.013101\n",
      "9               team  0.010059\n"
     ]
    }
   ],
   "source": [
    "# top terms out of all the emails\n",
    "def top_mean_feats(X, features, grp_ids=None, min_tfidf=0.1, top_n=20000):\n",
    "    if grp_ids:\n",
    "        D = X[grp_ids].toarray()\n",
    "    else:\n",
    "        D = X.toarray()\n",
    "\n",
    "    D[D < min_tfidf] = 0\n",
    "    tfidf_means = np.mean(D, axis=0)\n",
    "    return top_tfidf_feats(tfidf_means, features, top_n)\n",
    "\n",
    "print(top_mean_feats(X, features, top_n=10))"
   ]
  },
  {
   "cell_type": "code",
   "execution_count": 8,
   "metadata": {},
   "outputs": [
    {
     "data": {
      "text/plain": [
       "<matplotlib.collections.PathCollection at 0x1f522497970>"
      ]
     },
     "execution_count": 8,
     "metadata": {},
     "output_type": "execute_result"
    },
    {
     "data": {
      "image/png": "[encoded data removed]",
      "text/plain": [
       "<Figure size 432x288 with 1 Axes>"
      ]
     },
     "metadata": {
      "needs_background": "light"
     },
     "output_type": "display_data"
    }
   ],
   "source": [
    "# Kmeans\n",
    "from sklearn.cluster import KMeans\n",
    "n_clusters = 5\n",
    "clf = KMeans(n_clusters=n_clusters, max_iter=100, init='k-means++', n_init=1)\n",
    "labels = clf.fit_predict(X)\n",
    "\n",
    "# For larger datasets use mini-batch KMeans, so we dont have to read all data into memory.\n",
    "# batch_size = 500\n",
    "# clf = MiniBatchKMeans(n_clusters=n_clusters, init_size=1000, batch_size=batch_size, max_iter=100)  \n",
    "# clf.fit(X)\n",
    "\n",
    "# Let's plot this with matplotlib to visualize it.\n",
    "# First we need to make 2D coordinates from the sparse matrix.\n",
    "X_dense = X.todense()\n",
    "pca = PCA(n_components=2).fit(X_dense)\n",
    "coords = pca.transform(X_dense)\n",
    "\n",
    "# Lets plot it again, but this time we add some color to it.\n",
    "# This array needs to be at least the length of the n_clusters.\n",
    "label_colors = [\"#2AB0E9\", \"#2BAF74\", \"#D7665E\", \"#CCCCCC\", \n",
    "                \"#D2CA0D\", \"#522A64\", \"#A3DB05\", \"#FC6514\"]\n",
    "colors = [label_colors[i] for i in labels]\n",
    "# Plot clusters\n",
    "plt.scatter(coords[:, 0], coords[:, 1], c=colors)\n",
    "\n",
    "\n",
    "\n"
   ]
  },
  {
   "cell_type": "code",
   "execution_count": 9,
   "metadata": {},
   "outputs": [
    {
     "data": {
      "image/png": "[encoded data removed]",
      "text/plain": [
       "<Figure size 432x288 with 1 Axes>"
      ]
     },
     "metadata": {
      "needs_background": "light"
     },
     "output_type": "display_data"
    }
   ],
   "source": [
    "# Plot the cluster centers\n",
    "centroids = clf.cluster_centers_\n",
    "centroid_coords = pca.transform(centroids)\n",
    "plt.scatter(centroid_coords[:, 0], centroid_coords[:, 1], marker='X', s=200, linewidths=2, c='#444d60')\n",
    "plt.show()"
   ]
  },
  {
   "cell_type": "code",
   "execution_count": 10,
   "metadata": {},
   "outputs": [
    {
     "data": {
      "text/plain": [
       "[    features     score\n",
       " 0    virtual  0.704943\n",
       " 1        sep  0.149379\n",
       " 2      event  0.086277\n",
       " 3    session  0.069473\n",
       " 4  september  0.051027\n",
       " 5  programme  0.048247\n",
       " 6     career  0.040582\n",
       " 7   httpswww  0.039718\n",
       " 8       join  0.032165\n",
       " 9   register  0.031400,\n",
       "             features     score\n",
       " 0                edu  0.078214\n",
       " 1                com  0.060597\n",
       " 2          safelinks  0.058218\n",
       " 3         httpsapc01  0.049097\n",
       " 4            student  0.016687\n",
       " 5  urlhttps3a2f2fwww  0.015792\n",
       " 6               team  0.012044\n",
       " 7                 sg  0.011898\n",
       " 8          singapore  0.011830\n",
       " 9             office  0.010998,\n",
       "      features     score\n",
       " 0        sutd  0.962860\n",
       " 1        dear  0.012750\n",
       " 2     student  0.009302\n",
       " 3        join  0.005619\n",
       " 4  httpsapc01  0.005040\n",
       " 5     session  0.004367\n",
       " 6    research  0.003577\n",
       " 7      career  0.003224\n",
       " 8   september  0.002580\n",
       " 9  university  0.002561,\n",
       "       features     score\n",
       " 0   protection  0.999594\n",
       " 1  information  0.000399\n",
       " 2    singapore  0.000377\n",
       " 3         zoom  0.000000\n",
       " 4           ha  0.000000\n",
       " 5          new  0.000000\n",
       " 6    microsoft  0.000000\n",
       " 7         link  0.000000\n",
       " 8         like  0.000000\n",
       " 9        learn  0.000000,\n",
       "      features     score\n",
       " 0     outlook  0.999506\n",
       " 1  httpsapc01  0.000670\n",
       " 2          wa  0.000397\n",
       " 3        zoom  0.000000\n",
       " 4          ha  0.000000\n",
       " 5         new  0.000000\n",
       " 6   microsoft  0.000000\n",
       " 7        link  0.000000\n",
       " 8        like  0.000000\n",
       " 9       learn  0.000000]"
      ]
     },
     "execution_count": 10,
     "metadata": {},
     "output_type": "execute_result"
    }
   ],
   "source": [
    "# extracts the top terms per cluster\n",
    "def top_feats_per_cluster(X, y, features, min_tfidf=0.1, top_n=10):\n",
    "    dfs = []\n",
    "    labels = np.unique(y)\n",
    "    for label in labels:\n",
    "        ids = np.where(y==label) \n",
    "        feats_df = top_mean_feats(X, features, ids,    min_tfidf=min_tfidf, top_n=top_n)\n",
    "        feats_df.label = label\n",
    "        dfs.append(feats_df)\n",
    "    return dfs\n",
    "\n",
    "top_feats_per_cluster(X, labels, features, min_tfidf=0.1, top_n=10)"
   ]
  },
  {
   "cell_type": "code",
   "execution_count": 11,
   "metadata": {},
   "outputs": [
    {
     "data": {
      "image/png": "[encoded data removed]",
      "text/plain": [
       "<Figure size 1800x648 with 5 Axes>"
      ]
     },
     "metadata": {},
     "output_type": "display_data"
    }
   ],
   "source": [
    "#Use this to print the top terms per cluster with matplotlib.\n",
    "\n",
    "def plot_tfidf_classfeats_h(dfs):\n",
    "    fig = plt.figure(figsize=(25, 9), facecolor=\"w\")\n",
    "    x = np.arange(len(dfs[0]))\n",
    "    for i, df in enumerate(dfs):\n",
    "        ax = fig.add_subplot(1, len(dfs), i+1)\n",
    "        ax.spines[\"top\"].set_visible(False)\n",
    "        ax.spines[\"right\"].set_visible(False)\n",
    "        ax.set_frame_on(False)\n",
    "        ax.get_xaxis().tick_bottom()\n",
    "        ax.get_yaxis().tick_left()\n",
    "        ax.set_xlabel(\"Tf-Idf Score\", labelpad=16, fontsize=14)\n",
    "        ax.set_title(\"cluster = \" + str(df.label), fontsize=16)\n",
    "        ax.ticklabel_format(axis='x', style='sci', scilimits=(-2,2))\n",
    "        ax.barh(x, df.score, align='center', color='#7530FF')\n",
    "        ax.set_yticks(x)\n",
    "        ax.set_ylim([-1, x[-1]+1])\n",
    "        yticks = ax.set_yticklabels(df.features)\n",
    "        plt.subplots_adjust(bottom=0.09, right=0.97, left=0.15, top=0.95, wspace=0.52)\n",
    "    plt.show()\n",
    "\n",
    "\n",
    "plot_tfidf_classfeats_h(top_feats_per_cluster(X, labels, features, 0.1, 25))"
   ]
  },
  {
   "cell_type": "markdown",
   "metadata": {},
   "source": [
    "Part 2 - Identify email through a specific keyword (technically not needed for our ml)"
   ]
  },
  {
   "cell_type": "code",
   "execution_count": 12,
   "metadata": {},
   "outputs": [
    {
     "name": "stdout",
     "output_type": "stream",
     "text": [
      "  (0, 6777)\t0.43756676660039356\n",
      "  (0, 1541)\t0.7257028617034457\n",
      "  (0, 2237)\t0.530933782389392\n"
     ]
    }
   ],
   "source": [
    "from sklearn.feature_extraction.text import TfidfVectorizer, ENGLISH_STOP_WORDS\n",
    "\n",
    "stopwords = ENGLISH_STOP_WORDS.union(['from', 'com', 'php', 'free'])\n",
    "vec = TfidfVectorizer(analyzer='word', stop_words=stopwords, max_df=0.3, min_df=2)\n",
    "#vec_train = vec.fit_transform(df.Body.values.astype('U'))\n",
    "vec_train = vec.fit_transform(df.Body)\n",
    "\n",
    "# print out the vector of the first email\n",
    "print(vec_train[0:1])"
   ]
  },
  {
   "cell_type": "code",
   "execution_count": 13,
   "metadata": {},
   "outputs": [
    {
     "name": "stdout",
     "output_type": "stream",
     "text": [
      "[1. 0. 0. ... 0. 0. 0.]\n"
     ]
    }
   ],
   "source": [
    "from sklearn.metrics.pairwise import linear_kernel\n",
    "\n",
    "# Find cosine similarity between the first email and all others.\n",
    "cosine_sim = linear_kernel(vec_train[0:1], vec_train).flatten()\n",
    "print(cosine_sim)"
   ]
  },
  {
   "cell_type": "code",
   "execution_count": 14,
   "metadata": {},
   "outputs": [],
   "source": [
    "vec = TfidfVectorizer(analyzer='word', stop_words=stopwords, max_df=0.3, min_df=2)\n",
    "vec_train = vec.fit_transform(df.Body)\n",
    "\n",
    "# Finding emails related to a query.\n",
    "query = \"qr\"\n",
    "# Transform the query into the original vector\n",
    "vec_query = vec.transform([query])\n",
    "\n",
    "cosine_sim = linear_kernel(vec_query, vec_train).flatten()"
   ]
  },
  {
   "cell_type": "code",
   "execution_count": 15,
   "metadata": {},
   "outputs": [
    {
     "name": "stdout",
     "output_type": "stream",
     "text": [
      "[31996 11480 13815 11498 30227 13039 38409  8321  1082]\n"
     ]
    }
   ],
   "source": [
    "# Find top 10 most related emails to the query.\n",
    "related_email_indices = cosine_sim.argsort()[:-10:-1]\n",
    "# print out the indices of the 10 most related emails.\n",
    "print(related_email_indices)"
   ]
  },
  {
   "cell_type": "code",
   "execution_count": 16,
   "metadata": {},
   "outputs": [
    {
     "name": "stdout",
     "output_type": "stream",
     "text": [
      "register via qr code\n"
     ]
    }
   ],
   "source": [
    "# Print out the first result\n",
    "first_email_index = related_email_indices[0]\n",
    "print(df.Body.to_numpy()[first_email_index])"
   ]
  },
  {
   "cell_type": "code",
   "execution_count": 17,
   "metadata": {},
   "outputs": [],
   "source": [
    "from sklearn.feature_extraction.text import TfidfVectorizer, ENGLISH_STOP_WORDS\n",
    "from sklearn.metrics.pairwise import linear_kernel\n",
    "#from helpers import parse_into_emails\n",
    "\n",
    "def parse_raw_message(raw_message):\n",
    "    lines = raw_message.split('\\n')\n",
    "    email = {}\n",
    "    message = ''\n",
    "    keys_to_extract = ['Subject', 'Body']\n",
    "    for line in lines:\n",
    "        if ':' not in line:\n",
    "            message += line.strip()\n",
    "            email['Body'] = message\n",
    "        else:\n",
    "            pairs = line.split(':')\n",
    "            key = pairs[0].lower()\n",
    "            val = pairs[1].strip()\n",
    "            if key in keys_to_extract:\n",
    "                email[key] = val\n",
    "    return email\n",
    "\n",
    "def parse_into_emails(messages):\n",
    "    emails = [parse_raw_message(message) for message in messages]\n",
    "    return {\n",
    "        'Body': map_to_list(emails, 'Body'), \n",
    "        'Subject': map_to_list(emails, 'Subject'), \n",
    "        'match': map_to_list(emails, 'match')\n",
    "    }\n",
    "\n",
    "def map_to_list(emails, key):\n",
    "    results = []\n",
    "    for email in emails:\n",
    "        if key not in email:\n",
    "            results.append('')\n",
    "        else:\n",
    "            results.append(email[key])\n",
    "    return results\n",
    "\n",
    "def read_email_bodies():\n",
    "  emails = pd.read_csv('Outlook_mail.csv')\n",
    "  email_df = pd.DataFrame(parse_into_emails(emails.Body))\n",
    "  email_df.drop(email_df.query(\"Body == '' | Subject == '' | match == ''\").index, inplace=True)\n",
    "  email_df.drop_duplicates(inplace=True)\n",
    "  return email_df['Body']\n",
    "\n",
    "\n",
    "class EmailDataset: \n",
    "  def __init__(self):\n",
    "    stopwords = ENGLISH_STOP_WORDS.union(['from', 'com', 'php', 'free'])\n",
    "    self.vec = TfidfVectorizer(analyzer='word', stop_words=stopwords, max_df=0.3, min_df=2)\n",
    "    self.emails = read_email_bodies() \n",
    "\n",
    "    # train on the given email data.\n",
    "    self.train()\n",
    "  \n",
    "  def train(self):\n",
    "    self.vec_train = self.vec.fit_transform(self.emails)\n",
    "  \n",
    "  def query(self, keyword, limit):\n",
    "    vec_keyword = self.vec.transform([keyword])\n",
    "    cosine_sim = linear_kernel(vec_keyword, self.vec_train).flatten()\n",
    "    related_email_indices = cosine_sim.argsort()[:-limit:-1]\n",
    "    return related_email_indices\n",
    "\n",
    "  def find_email_by_index(self, i):\n",
    "    return self.emails.as_matrix()[i]"
   ]
  },
  {
   "cell_type": "code",
   "execution_count": 18,
   "metadata": {},
   "outputs": [
    {
     "ename": "ValueError",
     "evalue": "empty vocabulary; perhaps the documents only contain stop words",
     "output_type": "error",
     "traceback": [
      "\u001b[1;31m---------------------------------------------------------------------------\u001b[0m",
      "\u001b[1;31mValueError\u001b[0m                                Traceback (most recent call last)",
      "\u001b[1;32m<ipython-input-18-6f2c10aff2fb>\u001b[0m in \u001b[0;36m<module>\u001b[1;34m\u001b[0m\n\u001b[0;32m      1\u001b[0m \u001b[1;31m# use the EmailDataset class to query for keywords.\u001b[0m\u001b[1;33m\u001b[0m\u001b[1;33m\u001b[0m\u001b[1;33m\u001b[0m\u001b[0m\n\u001b[1;32m----> 2\u001b[1;33m \u001b[0mds\u001b[0m \u001b[1;33m=\u001b[0m \u001b[0mEmailDataset\u001b[0m\u001b[1;33m(\u001b[0m\u001b[1;33m)\u001b[0m\u001b[1;33m\u001b[0m\u001b[1;33m\u001b[0m\u001b[0m\n\u001b[0m\u001b[0;32m      3\u001b[0m \u001b[0mresults\u001b[0m \u001b[1;33m=\u001b[0m \u001b[0mds\u001b[0m\u001b[1;33m.\u001b[0m\u001b[0mquery\u001b[0m\u001b[1;33m(\u001b[0m\u001b[1;34m'zoom'\u001b[0m\u001b[1;33m,\u001b[0m \u001b[1;36m100\u001b[0m\u001b[1;33m)\u001b[0m\u001b[1;33m\u001b[0m\u001b[1;33m\u001b[0m\u001b[0m\n\u001b[0;32m      4\u001b[0m \u001b[1;31m# print out the first result.\u001b[0m\u001b[1;33m\u001b[0m\u001b[1;33m\u001b[0m\u001b[1;33m\u001b[0m\u001b[0m\n\u001b[0;32m      5\u001b[0m \u001b[0mprint\u001b[0m\u001b[1;33m(\u001b[0m\u001b[0mds\u001b[0m\u001b[1;33m.\u001b[0m\u001b[0mfind_email_by_index\u001b[0m\u001b[1;33m(\u001b[0m\u001b[0mresults\u001b[0m\u001b[1;33m[\u001b[0m\u001b[1;36m0\u001b[0m\u001b[1;33m]\u001b[0m\u001b[1;33m)\u001b[0m\u001b[1;33m)\u001b[0m\u001b[1;33m\u001b[0m\u001b[1;33m\u001b[0m\u001b[0m\n",
      "\u001b[1;32m<ipython-input-17-c883c340b52b>\u001b[0m in \u001b[0;36m__init__\u001b[1;34m(self)\u001b[0m\n\u001b[0;32m     52\u001b[0m \u001b[1;33m\u001b[0m\u001b[0m\n\u001b[0;32m     53\u001b[0m     \u001b[1;31m# train on the given email data.\u001b[0m\u001b[1;33m\u001b[0m\u001b[1;33m\u001b[0m\u001b[1;33m\u001b[0m\u001b[0m\n\u001b[1;32m---> 54\u001b[1;33m     \u001b[0mself\u001b[0m\u001b[1;33m.\u001b[0m\u001b[0mtrain\u001b[0m\u001b[1;33m(\u001b[0m\u001b[1;33m)\u001b[0m\u001b[1;33m\u001b[0m\u001b[1;33m\u001b[0m\u001b[0m\n\u001b[0m\u001b[0;32m     55\u001b[0m \u001b[1;33m\u001b[0m\u001b[0m\n\u001b[0;32m     56\u001b[0m   \u001b[1;32mdef\u001b[0m \u001b[0mtrain\u001b[0m\u001b[1;33m(\u001b[0m\u001b[0mself\u001b[0m\u001b[1;33m)\u001b[0m\u001b[1;33m:\u001b[0m\u001b[1;33m\u001b[0m\u001b[1;33m\u001b[0m\u001b[0m\n",
      "\u001b[1;32m<ipython-input-17-c883c340b52b>\u001b[0m in \u001b[0;36mtrain\u001b[1;34m(self)\u001b[0m\n\u001b[0;32m     55\u001b[0m \u001b[1;33m\u001b[0m\u001b[0m\n\u001b[0;32m     56\u001b[0m   \u001b[1;32mdef\u001b[0m \u001b[0mtrain\u001b[0m\u001b[1;33m(\u001b[0m\u001b[0mself\u001b[0m\u001b[1;33m)\u001b[0m\u001b[1;33m:\u001b[0m\u001b[1;33m\u001b[0m\u001b[1;33m\u001b[0m\u001b[0m\n\u001b[1;32m---> 57\u001b[1;33m     \u001b[0mself\u001b[0m\u001b[1;33m.\u001b[0m\u001b[0mvec_train\u001b[0m \u001b[1;33m=\u001b[0m \u001b[0mself\u001b[0m\u001b[1;33m.\u001b[0m\u001b[0mvec\u001b[0m\u001b[1;33m.\u001b[0m\u001b[0mfit_transform\u001b[0m\u001b[1;33m(\u001b[0m\u001b[0mself\u001b[0m\u001b[1;33m.\u001b[0m\u001b[0memails\u001b[0m\u001b[1;33m)\u001b[0m\u001b[1;33m\u001b[0m\u001b[1;33m\u001b[0m\u001b[0m\n\u001b[0m\u001b[0;32m     58\u001b[0m \u001b[1;33m\u001b[0m\u001b[0m\n\u001b[0;32m     59\u001b[0m   \u001b[1;32mdef\u001b[0m \u001b[0mquery\u001b[0m\u001b[1;33m(\u001b[0m\u001b[0mself\u001b[0m\u001b[1;33m,\u001b[0m \u001b[0mkeyword\u001b[0m\u001b[1;33m,\u001b[0m \u001b[0mlimit\u001b[0m\u001b[1;33m)\u001b[0m\u001b[1;33m:\u001b[0m\u001b[1;33m\u001b[0m\u001b[1;33m\u001b[0m\u001b[0m\n",
      "\u001b[1;32mc:\\Users\\mandi\\anaconda3\\lib\\site-packages\\sklearn\\feature_extraction\\text.py\u001b[0m in \u001b[0;36mfit_transform\u001b[1;34m(self, raw_documents, y)\u001b[0m\n\u001b[0;32m   1838\u001b[0m         \"\"\"\n\u001b[0;32m   1839\u001b[0m         \u001b[0mself\u001b[0m\u001b[1;33m.\u001b[0m\u001b[0m_check_params\u001b[0m\u001b[1;33m(\u001b[0m\u001b[1;33m)\u001b[0m\u001b[1;33m\u001b[0m\u001b[1;33m\u001b[0m\u001b[0m\n\u001b[1;32m-> 1840\u001b[1;33m         \u001b[0mX\u001b[0m \u001b[1;33m=\u001b[0m \u001b[0msuper\u001b[0m\u001b[1;33m(\u001b[0m\u001b[1;33m)\u001b[0m\u001b[1;33m.\u001b[0m\u001b[0mfit_transform\u001b[0m\u001b[1;33m(\u001b[0m\u001b[0mraw_documents\u001b[0m\u001b[1;33m)\u001b[0m\u001b[1;33m\u001b[0m\u001b[1;33m\u001b[0m\u001b[0m\n\u001b[0m\u001b[0;32m   1841\u001b[0m         \u001b[0mself\u001b[0m\u001b[1;33m.\u001b[0m\u001b[0m_tfidf\u001b[0m\u001b[1;33m.\u001b[0m\u001b[0mfit\u001b[0m\u001b[1;33m(\u001b[0m\u001b[0mX\u001b[0m\u001b[1;33m)\u001b[0m\u001b[1;33m\u001b[0m\u001b[1;33m\u001b[0m\u001b[0m\n\u001b[0;32m   1842\u001b[0m         \u001b[1;31m# X is already a transformed view of raw_documents so\u001b[0m\u001b[1;33m\u001b[0m\u001b[1;33m\u001b[0m\u001b[1;33m\u001b[0m\u001b[0m\n",
      "\u001b[1;32mc:\\Users\\mandi\\anaconda3\\lib\\site-packages\\sklearn\\feature_extraction\\text.py\u001b[0m in \u001b[0;36mfit_transform\u001b[1;34m(self, raw_documents, y)\u001b[0m\n\u001b[0;32m   1196\u001b[0m         \u001b[0mmax_features\u001b[0m \u001b[1;33m=\u001b[0m \u001b[0mself\u001b[0m\u001b[1;33m.\u001b[0m\u001b[0mmax_features\u001b[0m\u001b[1;33m\u001b[0m\u001b[1;33m\u001b[0m\u001b[0m\n\u001b[0;32m   1197\u001b[0m \u001b[1;33m\u001b[0m\u001b[0m\n\u001b[1;32m-> 1198\u001b[1;33m         vocabulary, X = self._count_vocab(raw_documents,\n\u001b[0m\u001b[0;32m   1199\u001b[0m                                           self.fixed_vocabulary_)\n\u001b[0;32m   1200\u001b[0m \u001b[1;33m\u001b[0m\u001b[0m\n",
      "\u001b[1;32mc:\\Users\\mandi\\anaconda3\\lib\\site-packages\\sklearn\\feature_extraction\\text.py\u001b[0m in \u001b[0;36m_count_vocab\u001b[1;34m(self, raw_documents, fixed_vocab)\u001b[0m\n\u001b[0;32m   1127\u001b[0m             \u001b[0mvocabulary\u001b[0m \u001b[1;33m=\u001b[0m \u001b[0mdict\u001b[0m\u001b[1;33m(\u001b[0m\u001b[0mvocabulary\u001b[0m\u001b[1;33m)\u001b[0m\u001b[1;33m\u001b[0m\u001b[1;33m\u001b[0m\u001b[0m\n\u001b[0;32m   1128\u001b[0m             \u001b[1;32mif\u001b[0m \u001b[1;32mnot\u001b[0m \u001b[0mvocabulary\u001b[0m\u001b[1;33m:\u001b[0m\u001b[1;33m\u001b[0m\u001b[1;33m\u001b[0m\u001b[0m\n\u001b[1;32m-> 1129\u001b[1;33m                 raise ValueError(\"empty vocabulary; perhaps the documents only\"\n\u001b[0m\u001b[0;32m   1130\u001b[0m                                  \" contain stop words\")\n\u001b[0;32m   1131\u001b[0m \u001b[1;33m\u001b[0m\u001b[0m\n",
      "\u001b[1;31mValueError\u001b[0m: empty vocabulary; perhaps the documents only contain stop words"
     ]
    }
   ],
   "source": [
    "# use the EmailDataset class to query for keywords.\n",
    "ds = EmailDataset()\n",
    "results = ds.query('zoom', 100)\n",
    "# print out the first result.\n",
    "print(ds.find_email_by_index(results[0]))"
   ]
  },
  {
   "cell_type": "code",
   "execution_count": null,
   "metadata": {},
   "outputs": [],
   "source": [
    "# from sklearn.datasets.samples_generator import make_blobs\n",
    "# X, y_true = make_blobs(n_samples=1000, centers=10,\n",
    "#                        cluster_std=0.60, random_state=0)\n",
    "# plt.scatter(X[:, 0], X[:, 1], s=50);"
   ]
  },
  {
   "cell_type": "code",
   "execution_count": null,
   "metadata": {},
   "outputs": [],
   "source": [
    "# from sklearn.cluster import KMeans\n",
    "# kmeans = KMeans(n_clusters=4)\n",
    "# kmeans.fit(X)\n",
    "# y_kmeans = kmeans.predict(X)"
   ]
  },
  {
   "cell_type": "code",
   "execution_count": null,
   "metadata": {},
   "outputs": [],
   "source": [
    "# plt.scatter(X[:, 0], X[:, 1], c=y_kmeans, s=50, cmap='viridis')\n",
    "\n",
    "# centers = kmeans.cluster_centers_\n",
    "# plt.scatter(centers[:, 0], centers[:, 1], c='black', s=200, alpha=0.5);"
   ]
  }
 ],
 "metadata": {
  "kernelspec": {
   "display_name": "Python 3.8.3 ('base')",
   "language": "python",
   "name": "python3"
  },
  "language_info": {
   "codemirror_mode": {
    "name": "ipython",
    "version": 3
   },
   "file_extension": ".py",
   "mimetype": "text/x-python",
   "name": "python",
   "nbconvert_exporter": "python",
   "pygments_lexer": "ipython3",
   "version": "3.8.3"
  },
  "orig_nbformat": 4,
  "vscode": {
   "interpreter": {
    "hash": "f9ab51bc33436452f3b5f2e814446cb92329379584cbe4c50aa3680aa4b8afb0"
   }
  }
 },
 "nbformat": 4,
 "nbformat_minor": 2
}

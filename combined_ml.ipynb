{
 "cells": [
  {
   "cell_type": "code",
   "execution_count": 130,
   "metadata": {},
   "outputs": [
    {
     "name": "stderr",
     "output_type": "stream",
     "text": [
      "[nltk_data] Downloading package stopwords to\n",
      "[nltk_data]     C:\\Users\\mandi\\AppData\\Roaming\\nltk_data...\n",
      "[nltk_data]   Package stopwords is already up-to-date!\n"
     ]
    },
    {
     "data": {
      "text/plain": [
       "True"
      ]
     },
     "execution_count": 130,
     "metadata": {},
     "output_type": "execute_result"
    }
   ],
   "source": [
    "import numpy as np\n",
    "import pandas as pd\n",
    "import matplotlib.pyplot as plt\n",
    "\n",
    "from sklearn.feature_extraction.text import TfidfVectorizer, ENGLISH_STOP_WORDS\n",
    "from sklearn.pipeline import make_pipeline\n",
    "from sklearn.decomposition import PCA\n",
    "from sklearn.cluster import KMeans, MiniBatchKMeans\n",
    "from sklearn.manifold import TSNE\n",
    "from sklearn.decomposition import TruncatedSVD \n",
    "from sklearn.preprocessing import normalize \n",
    "\n",
    "import pickle\n",
    "from sklearn import metrics\n",
    "import nltk\n",
    "import os\n",
    "from nltk.corpus import stopwords\n",
    "from textblob import Word\n",
    "from sklearn.linear_model import SGDClassifier\n",
    "from sklearn.model_selection import GridSearchCV\n",
    "from sklearn.ensemble import RandomForestClassifier\n",
    "from sklearn.linear_model import LogisticRegression\n",
    "from sklearn.model_selection import train_test_split\n",
    "from sklearn.metrics import confusion_matrix\n",
    "from sklearn.metrics import classification_report\n",
    "nltk.download(\"stopwords\")\n"
   ]
  },
  {
   "cell_type": "code",
   "execution_count": 131,
   "metadata": {},
   "outputs": [
    {
     "data": {
      "text/html": [
       "<div>\n",
       "<style scoped>\n",
       "    .dataframe tbody tr th:only-of-type {\n",
       "        vertical-align: middle;\n",
       "    }\n",
       "\n",
       "    .dataframe tbody tr th {\n",
       "        vertical-align: top;\n",
       "    }\n",
       "\n",
       "    .dataframe thead th {\n",
       "        text-align: right;\n",
       "    }\n",
       "</style>\n",
       "<table border=\"1\" class=\"dataframe\">\n",
       "  <thead>\n",
       "    <tr style=\"text-align: right;\">\n",
       "      <th></th>\n",
       "      <th>Subject</th>\n",
       "      <th>Body</th>\n",
       "    </tr>\n",
       "  </thead>\n",
       "  <tbody>\n",
       "    <tr>\n",
       "      <th>0</th>\n",
       "      <td>SUTDReviews --- Sharing reviews on SUTD Mods</td>\n",
       "      <td>SUTDFam!!\\n\\n \\n\\nHaving trouble deciding wha...</td>\n",
       "    </tr>\n",
       "    <tr>\n",
       "      <th>1</th>\n",
       "      <td>Request for Interview for Pedagogical Project</td>\n",
       "      <td>,\\n\\nThanks for responding. The online form i...</td>\n",
       "    </tr>\n",
       "    <tr>\n",
       "      <th>2</th>\n",
       "      <td>Change of Name for the ISTD Degree Programme</td>\n",
       "      <td>Students,\\n\\n \\n\\nSUTD will be changing the n...</td>\n",
       "    </tr>\n",
       "    <tr>\n",
       "      <th>3</th>\n",
       "      <td>Fw: 88 Call for Stories</td>\n",
       "      <td>\\n\\n________________________________\\n\\n Parul...</td>\n",
       "    </tr>\n",
       "    <tr>\n",
       "      <th>4</th>\n",
       "      <td>Revised  Student Exco and Cohort Advisor  prog...</td>\n",
       "      <td>Student Reps,\\n\\n \\n\\nThank you for your mitm...</td>\n",
       "    </tr>\n",
       "    <tr>\n",
       "      <th>...</th>\n",
       "      <td>...</td>\n",
       "      <td>...</td>\n",
       "    </tr>\n",
       "    <tr>\n",
       "      <th>823</th>\n",
       "      <td>meeting</td>\n",
       "      <td>lets meet 1 Nov at 5 pm at my room</td>\n",
       "    </tr>\n",
       "    <tr>\n",
       "      <th>824</th>\n",
       "      <td>meeting</td>\n",
       "      <td>project work 28 Dec at 3 pm at meeting room</td>\n",
       "    </tr>\n",
       "    <tr>\n",
       "      <th>825</th>\n",
       "      <td>meeting</td>\n",
       "      <td>Lets meet on 21 Jan at 10 Am at think tank</td>\n",
       "    </tr>\n",
       "    <tr>\n",
       "      <th>826</th>\n",
       "      <td>meeting</td>\n",
       "      <td>meeting on 17 Feb at 10 pm at library</td>\n",
       "    </tr>\n",
       "    <tr>\n",
       "      <th>827</th>\n",
       "      <td>meeting</td>\n",
       "      <td>meeting on 13 Mar at 1300 at microsoft teams</td>\n",
       "    </tr>\n",
       "  </tbody>\n",
       "</table>\n",
       "<p>828 rows × 2 columns</p>\n",
       "</div>"
      ],
      "text/plain": [
       "                                               Subject  \\\n",
       "0         SUTDReviews --- Sharing reviews on SUTD Mods   \n",
       "1        Request for Interview for Pedagogical Project   \n",
       "2         Change of Name for the ISTD Degree Programme   \n",
       "3                              Fw: 88 Call for Stories   \n",
       "4    Revised  Student Exco and Cohort Advisor  prog...   \n",
       "..                                                 ...   \n",
       "823                                            meeting   \n",
       "824                                            meeting   \n",
       "825                                            meeting   \n",
       "826                                            meeting   \n",
       "827                                            meeting   \n",
       "\n",
       "                                                  Body  \n",
       "0     SUTDFam!!\\n\\n \\n\\nHaving trouble deciding wha...  \n",
       "1     ,\\n\\nThanks for responding. The online form i...  \n",
       "2     Students,\\n\\n \\n\\nSUTD will be changing the n...  \n",
       "3    \\n\\n________________________________\\n\\n Parul...  \n",
       "4     Student Reps,\\n\\n \\n\\nThank you for your mitm...  \n",
       "..                                                 ...  \n",
       "823                 lets meet 1 Nov at 5 pm at my room  \n",
       "824        project work 28 Dec at 3 pm at meeting room  \n",
       "825         Lets meet on 21 Jan at 10 Am at think tank  \n",
       "826              meeting on 17 Feb at 10 pm at library  \n",
       "827       meeting on 13 Mar at 1300 at microsoft teams  \n",
       "\n",
       "[828 rows x 2 columns]"
      ]
     },
     "execution_count": 131,
     "metadata": {},
     "output_type": "execute_result"
    }
   ],
   "source": [
    "df = pd.read_csv(\"input621new.csv\")\n",
    "df"
   ]
  },
  {
   "cell_type": "code",
   "execution_count": 132,
   "metadata": {},
   "outputs": [
    {
     "data": {
      "text/html": [
       "<div>\n",
       "<style scoped>\n",
       "    .dataframe tbody tr th:only-of-type {\n",
       "        vertical-align: middle;\n",
       "    }\n",
       "\n",
       "    .dataframe tbody tr th {\n",
       "        vertical-align: top;\n",
       "    }\n",
       "\n",
       "    .dataframe thead th {\n",
       "        text-align: right;\n",
       "    }\n",
       "</style>\n",
       "<table border=\"1\" class=\"dataframe\">\n",
       "  <thead>\n",
       "    <tr style=\"text-align: right;\">\n",
       "      <th></th>\n",
       "      <th>Subject</th>\n",
       "      <th>Body</th>\n",
       "    </tr>\n",
       "  </thead>\n",
       "  <tbody>\n",
       "    <tr>\n",
       "      <th>0</th>\n",
       "      <td>SUTDReviews  Sharing reviews on SUTD Mods</td>\n",
       "      <td>sutdfam trouble deciding mod take want find ta...</td>\n",
       "    </tr>\n",
       "    <tr>\n",
       "      <th>1</th>\n",
       "      <td>Request for Interview for Pedagogical Project</td>\n",
       "      <td>thanks responding online form docsgoogleformsd...</td>\n",
       "    </tr>\n",
       "    <tr>\n",
       "      <th>2</th>\n",
       "      <td>Change of Name for the ISTD Degree Programme</td>\n",
       "      <td>student sutd changing name degree programme ba...</td>\n",
       "    </tr>\n",
       "    <tr>\n",
       "      <th>3</th>\n",
       "      <td>Fw 88 Call for Stories</td>\n",
       "      <td>parul kapur parulkapurdesignsingaporeorg thurs...</td>\n",
       "    </tr>\n",
       "    <tr>\n",
       "      <th>4</th>\n",
       "      <td>Revised  Student Exco and Cohort Advisor  prog...</td>\n",
       "      <td>student rep thank mitment contribution serving...</td>\n",
       "    </tr>\n",
       "    <tr>\n",
       "      <th>...</th>\n",
       "      <td>...</td>\n",
       "      <td>...</td>\n",
       "    </tr>\n",
       "    <tr>\n",
       "      <th>823</th>\n",
       "      <td>meeting</td>\n",
       "      <td>let meet 1 nov 5 pm room</td>\n",
       "    </tr>\n",
       "    <tr>\n",
       "      <th>824</th>\n",
       "      <td>meeting</td>\n",
       "      <td>project work 28 dec 3 pm meeting room</td>\n",
       "    </tr>\n",
       "    <tr>\n",
       "      <th>825</th>\n",
       "      <td>meeting</td>\n",
       "      <td>let meet 21 jan 10 think tank</td>\n",
       "    </tr>\n",
       "    <tr>\n",
       "      <th>826</th>\n",
       "      <td>meeting</td>\n",
       "      <td>meeting 17 feb 10 pm library</td>\n",
       "    </tr>\n",
       "    <tr>\n",
       "      <th>827</th>\n",
       "      <td>meeting</td>\n",
       "      <td>meeting 13 mar 1300 microsoft team</td>\n",
       "    </tr>\n",
       "  </tbody>\n",
       "</table>\n",
       "<p>828 rows × 2 columns</p>\n",
       "</div>"
      ],
      "text/plain": [
       "                                               Subject  \\\n",
       "0            SUTDReviews  Sharing reviews on SUTD Mods   \n",
       "1        Request for Interview for Pedagogical Project   \n",
       "2         Change of Name for the ISTD Degree Programme   \n",
       "3                               Fw 88 Call for Stories   \n",
       "4    Revised  Student Exco and Cohort Advisor  prog...   \n",
       "..                                                 ...   \n",
       "823                                            meeting   \n",
       "824                                            meeting   \n",
       "825                                            meeting   \n",
       "826                                            meeting   \n",
       "827                                            meeting   \n",
       "\n",
       "                                                  Body  \n",
       "0    sutdfam trouble deciding mod take want find ta...  \n",
       "1    thanks responding online form docsgoogleformsd...  \n",
       "2    student sutd changing name degree programme ba...  \n",
       "3    parul kapur parulkapurdesignsingaporeorg thurs...  \n",
       "4    student rep thank mitment contribution serving...  \n",
       "..                                                 ...  \n",
       "823                           let meet 1 nov 5 pm room  \n",
       "824              project work 28 dec 3 pm meeting room  \n",
       "825                      let meet 21 jan 10 think tank  \n",
       "826                       meeting 17 feb 10 pm library  \n",
       "827                 meeting 13 mar 1300 microsoft team  \n",
       "\n",
       "[828 rows x 2 columns]"
      ]
     },
     "execution_count": 132,
     "metadata": {},
     "output_type": "execute_result"
    }
   ],
   "source": [
    "df['Body'] = df['Body'].astype(str)\n",
    "\n",
    "df['Body'] = df['Body'].apply(lambda x: x.lower())\n",
    "\n",
    "#punctuations = '\\.\\!\\?'\n",
    "#df = (df.drop('Body',axis=1).merge(df.Body.str.extractall(f'(?P<Body>[^{punctuations}]+[{punctuations}])\\s?').reset_index('match'),left_index=True, right_index=True, how='left'))\n",
    "#df.dropna(how='all')\n",
    "#df.dropna(subset=['Body'])\n",
    "\n",
    "#df.dropna(subset = [\"Body\"], inplace=True)\n",
    "#df = df[df['Body'].notna()]\n",
    "\n",
    "\n",
    "\n",
    "df['Body'] = df['Body'].str.replace(\"[^\\w\\s<>]\", \"\")\n",
    "df = df.replace(r'[^0-9a-zA-Z ]', '', regex=True).replace(\"'\", '')\n",
    "# #print(type(df['Body']))\n",
    "# #df.applymap(type)\n",
    "df['Body'] = df['Body'].astype(str)\n",
    "df['Body'] = df['Body'].apply(lambda x: \" \".join([Word(word).lemmatize() for word in x.split()])) # change similar terms to the same\n",
    "stop = stopwords.words(\"english\") #remove useless words\n",
    "df['Body'] = df['Body'].apply(lambda x: \" \".join(x for x in x.split() if x not in stop))\n",
    "\n",
    "df"
   ]
  },
  {
   "cell_type": "code",
   "execution_count": 133,
   "metadata": {},
   "outputs": [],
   "source": [
    "#vect = TfidfVectorizer(stop_words='english', max_df=0.50, min_df=2)\n",
    "\n",
    "# max_df removes words that appears more than _%\n",
    "# min_df removes words that appears less than _\n",
    "\n",
    "vect = TfidfVectorizer(ngram_range=(1,3),\n",
    "                     min_df = 20,\n",
    "                     max_df = 0.4,\n",
    "                     token_pattern=u'(?ui)\\\\b\\\\w*[a-z]+\\\\w*[a-z]+\\\\w*\\\\b')\n",
    "X = vect.fit_transform(df['Body'].values.astype('U'))"
   ]
  },
  {
   "cell_type": "code",
   "execution_count": 134,
   "metadata": {},
   "outputs": [
    {
     "data": {
      "text/plain": [
       "<matplotlib.collections.PathCollection at 0x21fc97df250>"
      ]
     },
     "execution_count": 134,
     "metadata": {},
     "output_type": "execute_result"
    },
    {
     "data": {
      "image/png": "[encoded data removed]",
      "text/plain": [
       "<Figure size 432x288 with 1 Axes>"
      ]
     },
     "metadata": {
      "needs_background": "light"
     },
     "output_type": "display_data"
    }
   ],
   "source": [
    "# Kmeans\n",
    "from sklearn.cluster import KMeans\n",
    "n_clusters = 4\n",
    "clf = KMeans(n_clusters=n_clusters, max_iter=300, init='k-means++', n_init=1)\n",
    "labels = clf.fit_predict(X)\n",
    "\n",
    "# For larger datasets use mini-batch KMeans, so we dont have to read all data into memory.\n",
    "# batch_size = 500\n",
    "# clf = MiniBatchKMeans(n_clusters=n_clusters, init_size=1000, batch_size=batch_size, max_iter=100)  \n",
    "# labels = clf.fit(X)\n",
    "\n",
    "# Let's plot this with matplotlib to visualize it.\n",
    "# First we need to make 2D coordinates from the sparse matrix.\n",
    "X_dense = X.todense()\n",
    "pca = PCA(n_components=2).fit(X_dense)\n",
    "coords = pca.transform(X_dense)\n",
    "\n",
    "# Lets plot it again, but this time we add some color to it.\n",
    "# This array needs to be at least the length of the n_clusters.\n",
    "label_colors = [\"#2AB0E9\", \"#2BAF74\", \"#D7665E\", \"#CCCCCC\", \n",
    "                \"#D2CA0D\", \"#522A64\", \"#A3DB05\", \"#FC6514\"]\n",
    "colors = [label_colors[i] for i in labels]\n",
    "# Plot clusters\n",
    "plt.scatter(coords[:, 0], coords[:, 1], c=colors)\n",
    "\n",
    "\n",
    "\n"
   ]
  },
  {
   "cell_type": "code",
   "execution_count": 135,
   "metadata": {},
   "outputs": [
    {
     "name": "stdout",
     "output_type": "stream",
     "text": [
      "   features     score\n",
      "0      form  0.337902\n",
      "1    online  0.272460\n",
      "2   project  0.262806\n",
      "3     would  0.259971\n",
      "4      kang  0.251419\n",
      "5  learning  0.243807\n",
      "6      part  0.200409\n",
      "7  let know  0.190613\n",
      "8   request  0.188245\n",
      "9      know  0.174271\n"
     ]
    }
   ],
   "source": [
    "# top keywords in the emails\n",
    "\n",
    "def top_tfidf_feats(row, features, top_n=20000):\n",
    "    topn_ids = np.argsort(row)[::-1][:top_n]\n",
    "    top_feats = [(features[i], row[i]) for i in topn_ids]\n",
    "    df = pd.DataFrame(top_feats, columns=['features', 'score'])\n",
    "    return df\n",
    "def top_feats_in_doc(X, features, row_id, top_n=25):\n",
    "    row = np.squeeze(X[row_id].toarray())\n",
    "    return top_tfidf_feats(row, features, top_n)\n",
    "\n",
    "features = vect.get_feature_names()\n",
    "print(top_feats_in_doc(X, features, 1, 10))"
   ]
  },
  {
   "cell_type": "code",
   "execution_count": 136,
   "metadata": {},
   "outputs": [
    {
     "name": "stdout",
     "output_type": "stream",
     "text": [
      "          features     score\n",
      "0          meeting  0.043209\n",
      "1            event  0.037037\n",
      "2             join  0.035918\n",
      "3       join event  0.035257\n",
      "4        come join  0.035211\n",
      "5             come  0.035211\n",
      "6  come join event  0.035211\n",
      "7          library  0.031531\n",
      "8             meet  0.027757\n",
      "9             room  0.023800\n"
     ]
    }
   ],
   "source": [
    "# top terms out of all the emails\n",
    "def top_mean_feats(X, features, grp_ids=None, min_tfidf=0.1, top_n=20000):\n",
    "    if grp_ids:\n",
    "        D = X[grp_ids].toarray()\n",
    "    else:\n",
    "        D = X.toarray()\n",
    "\n",
    "    D[D < min_tfidf] = 0\n",
    "    tfidf_means = np.mean(D, axis=0)\n",
    "    return top_tfidf_feats(tfidf_means, features, top_n)\n",
    "\n",
    "print(top_mean_feats(X, features, top_n=10))"
   ]
  },
  {
   "cell_type": "code",
   "execution_count": 137,
   "metadata": {},
   "outputs": [
    {
     "name": "stdout",
     "output_type": "stream",
     "text": [
      "[3 3 3 2 3 3 3 2 2 3 3 3 3 3 3 3 2 3 3 2 2 2 2 2 3 3 3 3 3 3 3 3 3 3 2 3 2\n",
      " 3 2 3 3 3 3 2 3 3 3 3 3 3 3 3 3 3 3 3 3 3 3 3 3 3 3 3 3 3 3 3 3 3 3 3 3 3\n",
      " 3 3 3 3 3 3 3 3 3 3 3 3 3 3 3 3 3 3 3 3 3 3 3 3 3 3 3 3 3 3 3 3 3 2 2 3 3\n",
      " 3 3 3 3 3 3 3 3 3 3 3 3 3 3 3 3 3 3 2 3 3 3 3 3 2 3 3 3 3 3 3 3 3 3 3 3 3\n",
      " 3 3 3 3 3 3 3 3 3 2 3 3 3 3 3 2 2 0 3 0 0 3 0 0 0 2 3 3 3 0 3 2 0 3 3 3 3\n",
      " 3 3 3 3 3 3 3 3 3 3 3 3 3 3 2 3 3 3 3 3 0 0 3 3 0 0 0 0 3 3 0 0 0 3 3 0 0\n",
      " 3 3 3 3 0 3 2 2 3 2 2 2 2 2 2 2 3 0 3 3 3 3 3 2 3 2 2 2 3 3 3 3 3 3 3 3 3\n",
      " 3 3 3 3 3 3 2 3 3 3 3 3 3 0 0 0 3 3 3 3 0 3 3 3 0 0 3 0 3 3 3 3 2 0 0 2 0\n",
      " 3 3 2 3 3 3 3 3 3 3 3 3 3 3 3 3 3 3 3 3 3 3 3 3 3 3 3 3 3 3 3 3 3 3 3 3 3\n",
      " 3 3 3 3 3 3 3 3 3 3 3 3 3 3 3 3 3 3 3 3 3 3 3 3 3 3 3 3 3 3 3 3 3 3 3 3 3\n",
      " 3 3 3 3 3 3 3 3 3 3 3 3 3 2 3 3 3 3 3 3 3 3 3 3 3 3 3 3 3 3 3 3 3 3 3 3 3\n",
      " 3 3 3 3 3 3 3 3 3 3 3 3 3 3 3 3 3 3 3 3 3 3 3 3 3 3 3 3 3 1 3 3 3 3 3 3 3\n",
      " 3 3 3 3 3 3 2 3 2 3 3 3 3 3 3 3 3 3 2 3 3 3 3 3 3 3 3 3 3 3 3 3 3 3 3 3 3\n",
      " 3 3 3 3 3 3 3 2 2 2 2 2 3 2 3 3 3 3 3 3 3 3 3 2 3 3 3 3 3 3 3 3 3 2 3 3 2\n",
      " 3 3 3 3 3 3 3 2 3 2 2 2 3 2 3 2 2 3 2 3 3 3 3 2 2 2 3 3 3 2 3 3 3 3 3 3 3\n",
      " 3 3 3 3 2 2 2 3 3 2 2 2 3 2 3 2 3 3 3 3 3 3 3 3 3 3 2 3 3 3 3 2 3 3 1 1 1\n",
      " 1 1 1 1 1 1 1 1 1 3 1 1 3 3 1 1 1 1 1 3 1 1 1 1 1 1 1 1 1 1 1 1 1 3 1 1 3\n",
      " 3 1 1 1 1 1 3 1 3 1 1 3 3 1 1 1 1 1 3 3 1 1 1 1 1 1 1 1 1 1 1 1 3 1 1 3 3\n",
      " 1 1 1 1 1 3 1 1 1 1 1 1 1 1 1 1 1 1 1 3 1 1 3 3 1 1 1 1 1 3 1 3 1 1 3 3 1\n",
      " 1 1 1 1 3 3 1 1 1 1 1 1 1 1 1 1 1 1 3 1 1 3 3 1 1 1 1 1 3 1 1 1 1 1 1 1 1\n",
      " 1 1 1 1 1 3 1 1 3 3 1 1 1 1 1 3 1 3 1 1 3 3 1 1 1 1 1 3 3 3 1 1 3 3 1 1 1\n",
      " 1 1 3 1 1 1 1 1 1 1 1 1 3 1 1 3 3 1 1 1 1 1 3 1 1 1 1 1 1 1 1 1 1 1 1 1 3\n",
      " 1 1 3 3 1 1 1 1 1 3 1 3 1 1]\n"
     ]
    },
    {
     "data": {
      "text/plain": [
       "[        features     score\n",
       " 0  reimbursement  0.249632\n",
       " 1            art  0.234137\n",
       " 2            kit  0.233042\n",
       " 3        housing  0.158979\n",
       " 4        art kit  0.142999\n",
       " 5        receipt  0.129772\n",
       " 6           test  0.128837\n",
       " 7       resident  0.077988\n",
       " 8         hostel  0.060306\n",
       " 9      september  0.057159,\n",
       "           features     score\n",
       " 0          meeting  0.160041\n",
       " 1             come  0.155079\n",
       " 2        come join  0.155079\n",
       " 3  come join event  0.155079\n",
       " 4       join event  0.154600\n",
       " 5             join  0.127219\n",
       " 6            event  0.106384\n",
       " 7          library  0.081404\n",
       " 8       pm library  0.078334\n",
       " 9     meeting room  0.076458,\n",
       "      features     score\n",
       " 0    intended  0.122253\n",
       " 1     message  0.068704\n",
       " 2   quotation  0.067910\n",
       " 3      devans  0.066125\n",
       " 4         use  0.063350\n",
       " 5      sender  0.060925\n",
       " 6  attachment  0.047341\n",
       " 7         jos  0.044750\n",
       " 8  devans jos  0.041484\n",
       " 9       order  0.040573,\n",
       "   features     score\n",
       " 0     meet  0.040856\n",
       " 1    class  0.023408\n",
       " 2  session  0.023223\n",
       " 3     term  0.021501\n",
       " 4  library  0.020232\n",
       " 5    event  0.019974\n",
       " 6     week  0.019316\n",
       " 7      nov  0.019262\n",
       " 8     zoom  0.019082\n",
       " 9    video  0.018733]"
      ]
     },
     "execution_count": 137,
     "metadata": {},
     "output_type": "execute_result"
    }
   ],
   "source": [
    "# extracts the top terms per cluster\n",
    "features = vect.get_feature_names()\n",
    "def top_feats_per_cluster(X, y, features, min_tfidf=0.1, top_n=10):\n",
    "    dfs = []\n",
    "    print(y)\n",
    "    labels = np.unique(y)\n",
    "    for label in labels:\n",
    "        ids = np.where(y==label) \n",
    "        feats_df = top_mean_feats(X, features, ids,    min_tfidf=min_tfidf, top_n=top_n)\n",
    "        feats_df.label = label\n",
    "        dfs.append(feats_df)\n",
    "    return dfs\n",
    "\n",
    "top_feats_per_cluster(X, labels, features, min_tfidf=0.1, top_n=10)"
   ]
  },
  {
   "cell_type": "code",
   "execution_count": 138,
   "metadata": {},
   "outputs": [
    {
     "name": "stdout",
     "output_type": "stream",
     "text": [
      "[3 3 3 2 3 3 3 2 2 3 3 3 3 3 3 3 2 3 3 2 2 2 2 2 3 3 3 3 3 3 3 3 3 3 2 3 2\n",
      " 3 2 3 3 3 3 2 3 3 3 3 3 3 3 3 3 3 3 3 3 3 3 3 3 3 3 3 3 3 3 3 3 3 3 3 3 3\n",
      " 3 3 3 3 3 3 3 3 3 3 3 3 3 3 3 3 3 3 3 3 3 3 3 3 3 3 3 3 3 3 3 3 3 2 2 3 3\n",
      " 3 3 3 3 3 3 3 3 3 3 3 3 3 3 3 3 3 3 2 3 3 3 3 3 2 3 3 3 3 3 3 3 3 3 3 3 3\n",
      " 3 3 3 3 3 3 3 3 3 2 3 3 3 3 3 2 2 0 3 0 0 3 0 0 0 2 3 3 3 0 3 2 0 3 3 3 3\n",
      " 3 3 3 3 3 3 3 3 3 3 3 3 3 3 2 3 3 3 3 3 0 0 3 3 0 0 0 0 3 3 0 0 0 3 3 0 0\n",
      " 3 3 3 3 0 3 2 2 3 2 2 2 2 2 2 2 3 0 3 3 3 3 3 2 3 2 2 2 3 3 3 3 3 3 3 3 3\n",
      " 3 3 3 3 3 3 2 3 3 3 3 3 3 0 0 0 3 3 3 3 0 3 3 3 0 0 3 0 3 3 3 3 2 0 0 2 0\n",
      " 3 3 2 3 3 3 3 3 3 3 3 3 3 3 3 3 3 3 3 3 3 3 3 3 3 3 3 3 3 3 3 3 3 3 3 3 3\n",
      " 3 3 3 3 3 3 3 3 3 3 3 3 3 3 3 3 3 3 3 3 3 3 3 3 3 3 3 3 3 3 3 3 3 3 3 3 3\n",
      " 3 3 3 3 3 3 3 3 3 3 3 3 3 2 3 3 3 3 3 3 3 3 3 3 3 3 3 3 3 3 3 3 3 3 3 3 3\n",
      " 3 3 3 3 3 3 3 3 3 3 3 3 3 3 3 3 3 3 3 3 3 3 3 3 3 3 3 3 3 1 3 3 3 3 3 3 3\n",
      " 3 3 3 3 3 3 2 3 2 3 3 3 3 3 3 3 3 3 2 3 3 3 3 3 3 3 3 3 3 3 3 3 3 3 3 3 3\n",
      " 3 3 3 3 3 3 3 2 2 2 2 2 3 2 3 3 3 3 3 3 3 3 3 2 3 3 3 3 3 3 3 3 3 2 3 3 2\n",
      " 3 3 3 3 3 3 3 2 3 2 2 2 3 2 3 2 2 3 2 3 3 3 3 2 2 2 3 3 3 2 3 3 3 3 3 3 3\n",
      " 3 3 3 3 2 2 2 3 3 2 2 2 3 2 3 2 3 3 3 3 3 3 3 3 3 3 2 3 3 3 3 2 3 3 1 1 1\n",
      " 1 1 1 1 1 1 1 1 1 3 1 1 3 3 1 1 1 1 1 3 1 1 1 1 1 1 1 1 1 1 1 1 1 3 1 1 3\n",
      " 3 1 1 1 1 1 3 1 3 1 1 3 3 1 1 1 1 1 3 3 1 1 1 1 1 1 1 1 1 1 1 1 3 1 1 3 3\n",
      " 1 1 1 1 1 3 1 1 1 1 1 1 1 1 1 1 1 1 1 3 1 1 3 3 1 1 1 1 1 3 1 3 1 1 3 3 1\n",
      " 1 1 1 1 3 3 1 1 1 1 1 1 1 1 1 1 1 1 3 1 1 3 3 1 1 1 1 1 3 1 1 1 1 1 1 1 1\n",
      " 1 1 1 1 1 3 1 1 3 3 1 1 1 1 1 3 1 3 1 1 3 3 1 1 1 1 1 3 3 3 1 1 3 3 1 1 1\n",
      " 1 1 3 1 1 1 1 1 1 1 1 1 3 1 1 3 3 1 1 1 1 1 3 1 1 1 1 1 1 1 1 1 1 1 1 1 3\n",
      " 1 1 3 3 1 1 1 1 1 3 1 3 1 1]\n"
     ]
    },
    {
     "data": {
      "image/png": "[encoded data removed]",
      "text/plain": [
       "<Figure size 1800x648 with 4 Axes>"
      ]
     },
     "metadata": {},
     "output_type": "display_data"
    }
   ],
   "source": [
    "#Use this to print the top terms per cluster with matplotlib.\n",
    "\n",
    "def plot_tfidf_classfeats_h(dfs):\n",
    "    fig = plt.figure(figsize=(25, 9), facecolor=\"w\")\n",
    "    x = np.arange(len(dfs[0]))\n",
    "    for i, df in enumerate(dfs):\n",
    "        ax = fig.add_subplot(1, len(dfs), i+1)\n",
    "        ax.spines[\"top\"].set_visible(False)\n",
    "        ax.spines[\"right\"].set_visible(False)\n",
    "        ax.set_frame_on(False)\n",
    "        ax.get_xaxis().tick_bottom()\n",
    "        ax.get_yaxis().tick_left()\n",
    "        ax.set_xlabel(\"Tf-Idf Score\", labelpad=16, fontsize=14)\n",
    "        ax.set_title(\"cluster = \" + str(df.label), fontsize=16)\n",
    "        ax.ticklabel_format(axis='x', style='sci', scilimits=(-2,2))\n",
    "        ax.barh(x, df.score, align='center', color='#7530FF')\n",
    "        ax.set_yticks(x)\n",
    "        ax.set_ylim([-1, x[-1]+1])\n",
    "        yticks = ax.set_yticklabels(df.features)\n",
    "        plt.subplots_adjust(bottom=0.09, right=0.97, left=0.15, top=0.95, wspace=0.52)\n",
    "    plt.show()\n",
    "\n",
    "\n",
    "plot_tfidf_classfeats_h(top_feats_per_cluster(X, labels, features, 0.1, 25))"
   ]
  },
  {
   "cell_type": "code",
   "execution_count": 139,
   "metadata": {},
   "outputs": [],
   "source": [
    "# km = KMeans(n_clusters=5).fit(df)\n",
    "\n",
    "# cluster_map = pd.DataFrame()\n",
    "# cluster_map['data_index'] = df.index.values\n",
    "# cluster_map['cluster'] = clf.labels_\n",
    "\n",
    "# cluster_map[cluster_map.cluster == 2]\n",
    "#df.loc[df.ID == 103, 'FirstName'] = \"Matt\"\n",
    "#df.loc[df[clf.labels_==0], 'Meetings'] = df.Categories \n",
    "#df.loc = df[clf.labels_==0]['Categories'].fillna('Meeting')\n",
    "#df['Categories'][mask] = \"Meeting\"\n",
    "#df.loc[df[clf.labels_==0], 'Categories'] = 'Meeting'\n",
    "\n",
    "df['Classifications'] = pd.Series(labels, index=df.index)\n",
    "# df_new = df[df['Classifications'] != 1]\n",
    "# df_new\n",
    "\n",
    "X = df['Body']\n",
    "y = pd.to_numeric(df['Classifications'])\n",
    "X_train, X_test, y_train, y_test = train_test_split(X, y, random_state=101)"
   ]
  },
  {
   "cell_type": "code",
   "execution_count": 140,
   "metadata": {},
   "outputs": [],
   "source": [
    "# count every word/phrase and put it into a matrix\n",
    "vect = TfidfVectorizer(ngram_range=(1,3),\n",
    "                     min_df = 5,\n",
    "                     max_df = 0.4,\n",
    "                     token_pattern=u'(?ui)\\\\b\\\\w*[a-z]+\\\\w*[a-z]+\\\\w*\\\\b')\n",
    "vect.fit(X_train)\n",
    "X_train_dtm = vect.transform(X_train)\n",
    "X_test_dtm = vect.transform(X_test)"
   ]
  },
  {
   "cell_type": "code",
   "execution_count": 141,
   "metadata": {},
   "outputs": [],
   "source": [
    "# converting sparse matrices into dense matrices\n",
    "# replace empty spaces in the matrices with 0 (some sentences might not have a specific word)\n",
    "X_train_dense = pd.DataFrame(X_train_dtm.toarray(), columns = vect.get_feature_names())\n",
    "X_test_dense = pd.DataFrame(X_test_dtm.toarray(), columns = vect.get_feature_names())"
   ]
  },
  {
   "cell_type": "code",
   "execution_count": 148,
   "metadata": {},
   "outputs": [
    {
     "data": {
      "image/png": "[encoded data removed]",
      "text/plain": [
       "<Figure size 432x288 with 1 Axes>"
      ]
     },
     "metadata": {
      "needs_background": "light"
     },
     "output_type": "display_data"
    }
   ],
   "source": [
    "plt.plot(np.cumsum(pca.explained_variance_ratio_))\n",
    "plt.xlabel('Number of Components')\n",
    "plt.ylabel('Variance (%)') #for each component\n",
    "plt.show()"
   ]
  },
  {
   "cell_type": "code",
   "execution_count": 142,
   "metadata": {},
   "outputs": [],
   "source": [
    "pca = PCA(n_components = 20) # put a reasonable number from graph (70%-90%)\n",
    "X_train_pca = pca.fit_transform(X_train_dense)\n",
    "X_test_pca = pca.transform(X_test_dense)"
   ]
  },
  {
   "cell_type": "code",
   "execution_count": 143,
   "metadata": {},
   "outputs": [
    {
     "name": "stdout",
     "output_type": "stream",
     "text": [
      "[[  9   0   0   0]\n",
      " [  0  49   0   0]\n",
      " [  0   0  18   1]\n",
      " [  0   0   0 130]]\n",
      "              precision    recall  f1-score   support\n",
      "\n",
      "           0       1.00      1.00      1.00         9\n",
      "           1       1.00      1.00      1.00        49\n",
      "           2       1.00      0.95      0.97        19\n",
      "           3       0.99      1.00      1.00       130\n",
      "\n",
      "    accuracy                           1.00       207\n",
      "   macro avg       1.00      0.99      0.99       207\n",
      "weighted avg       1.00      1.00      1.00       207\n",
      "\n"
     ]
    }
   ],
   "source": [
    "from sklearn.ensemble import RandomForestClassifier\n",
    "rfc = RandomForestClassifier(n_estimators=20, criterion=\"entropy\", n_jobs=-1, random_state=0)\n",
    "rfc.fit(X_train_pca, y_train)\n",
    "predictions = rfc.predict(X_test_pca)\n",
    "print(confusion_matrix(y_test, predictions))\n",
    "print(classification_report(y_test, predictions))"
   ]
  },
  {
   "cell_type": "code",
   "execution_count": 144,
   "metadata": {},
   "outputs": [
    {
     "name": "stdout",
     "output_type": "stream",
     "text": [
      "Confusion Matrix : \n",
      " [[  9   0   0   0]\n",
      " [  0  49   0   0]\n",
      " [  0   0  18   1]\n",
      " [  0   0   0 130]]\n",
      "Accuracy : 0.28019323671497587\n",
      "Sensitivity : 1.0\n",
      "Specificity : 1.0\n"
     ]
    }
   ],
   "source": [
    "cm1 = confusion_matrix(y_test, predictions)\n",
    "print(\"Confusion Matrix : \\n\", cm1)\n",
    "total1 = sum(sum(cm1))\n",
    "\n",
    "accuracy1 = (cm1[0,0] + cm1[1,1])/total1\n",
    "print(\"Accuracy :\", accuracy1)\n",
    "\n",
    "sensitivity1 = cm1[0,0]/(cm1[0,0]+cm1[0,1])\n",
    "print(\"Sensitivity :\", sensitivity1)\n",
    "\n",
    "specificity1 = cm1[1,1]/(cm1[1,0]+cm1[1,1])\n",
    "print(\"Specificity :\", specificity1)"
   ]
  },
  {
   "cell_type": "code",
   "execution_count": 145,
   "metadata": {},
   "outputs": [
    {
     "name": "stdout",
     "output_type": "stream",
     "text": [
      "[1 1 3 3 3 1 3 3 1 3 1 3 3 3 3 1 3 3 1 2 3 2 1 1 3 1 3 3 3 1 1 1 3 3 1 1 3\n",
      " 3 2 3 3 1 3 3 3 1 3 1 3 1 3 2 2 3 3 1 2 0 2 1 0 3 1 3 3 2 3 3 3 1 3 3 1 2\n",
      " 3 3 3 3 0 3 3 3 1 1 3 3 3 3 1 0 2 3 1 1 1 3 3 3 3 3 3 2 3 3 3 1 1 1 3 3 2\n",
      " 1 3 0 3 2 1 3 0 3 3 3 1 3 1 3 1 3 3 3 3 3 3 3 3 3 2 1 3 3 2 3 3 1 3 3 3 3\n",
      " 3 3 1 3 3 3 3 0 1 3 3 3 3 3 3 3 3 3 3 3 1 3 3 3 3 1 3 3 3 1 2 3 3 3 1 3 3\n",
      " 3 2 3 1 3 3 3 2 3 3 0 3 0 3 3 1 3 1 3 3 3 3]\n"
     ]
    },
    {
     "name": "stderr",
     "output_type": "stream",
     "text": [
      "c:\\Users\\mandi\\anaconda3\\lib\\site-packages\\sklearn\\neural_network\\_multilayer_perceptron.py:582: ConvergenceWarning: Stochastic Optimizer: Maximum iterations (500) reached and the optimization hasn't converged yet.\n",
      "  warnings.warn(\n"
     ]
    }
   ],
   "source": [
    "from sklearn.neural_network import MLPClassifier\n",
    "mlp = MLPClassifier(hidden_layer_sizes=(10,5),max_iter=500)\n",
    "mlp.fit(X_train_pca,y_train)\n",
    "y_pred_class = mlp.predict(X_test_pca)\n",
    "print(y_pred_class)"
   ]
  },
  {
   "cell_type": "code",
   "execution_count": 146,
   "metadata": {},
   "outputs": [
    {
     "name": "stdout",
     "output_type": "stream",
     "text": [
      "[[-1.17159647e-01 -3.44676336e-02 -9.79510122e-02 ... -3.33965824e-01\n",
      "   2.86320575e-01 -1.82409382e-01]\n",
      " [-5.05734273e-01  3.42054327e-01  3.10985848e-01 ...  9.84145034e-02\n",
      "  -2.42036385e-01  1.62827930e-01]\n",
      " [ 4.10058490e-02 -4.31313207e-02 -6.76850663e-02 ...  8.87838829e-03\n",
      "   4.17545911e-02 -1.04195053e-02]\n",
      " ...\n",
      " [ 7.46344576e-02 -9.15201544e-02 -6.64276520e-02 ...  7.28056530e-03\n",
      "  -3.79345435e-02 -6.08577332e-02]\n",
      " [ 4.44235260e-02 -6.03222648e-02 -2.77774333e-02 ...  1.32672662e-02\n",
      "  -2.48047136e-04 -4.28053051e-02]\n",
      " [ 7.63290635e-03 -5.67114249e-02 -7.16182226e-02 ... -1.40528222e-02\n",
      "   5.21927097e-03 -4.03459839e-02]]\n",
      "[1 1 3 3 3 1 3 3 1 3 1 3 3 3 3 1 3 3 1 2 3 2 1 1 3 1 3 3 3 1 1 1 3 3 1 1 3\n",
      " 3 2 3 3 1 3 3 3 1 3 1 3 1 3 2 2 3 3 1 2 0 2 1 0 3 1 3 3 2 3 3 3 1 3 3 1 2\n",
      " 3 3 3 3 0 3 3 3 1 1 3 3 3 3 1 0 2 3 1 1 1 3 3 3 3 3 3 2 3 3 3 1 1 1 3 3 2\n",
      " 1 3 0 3 2 1 3 0 3 3 3 1 3 1 3 1 3 3 3 3 3 3 3 3 3 2 1 3 3 2 3 3 1 3 3 3 3\n",
      " 3 3 1 3 3 3 3 0 1 3 3 3 3 3 3 3 3 3 3 3 1 3 3 3 3 1 3 3 3 1 2 3 3 3 1 3 3\n",
      " 3 2 3 1 3 3 3 2 3 3 0 3 0 3 3 1 3 1 3 3 3 3]\n"
     ]
    }
   ],
   "source": [
    "# Saving model to current directory\n",
    "# Pickle serializes objects so they can be saved to a file, and loaded in a program again later on.\n",
    "pickle.dump(mlp, open('model.pkl','wb'))\n",
    "print(X_test_pca)\n",
    "# Loading model to compare the results\n",
    "model = pickle.load(open('model.pkl','rb'))\n",
    "print(model.predict(X_test_pca))"
   ]
  },
  {
   "cell_type": "code",
   "execution_count": null,
   "metadata": {},
   "outputs": [],
   "source": []
  }
 ],
 "metadata": {
  "kernelspec": {
   "display_name": "Python 3.8.3 ('base')",
   "language": "python",
   "name": "python3"
  },
  "language_info": {
   "codemirror_mode": {
    "name": "ipython",
    "version": 3
   },
   "file_extension": ".py",
   "mimetype": "text/x-python",
   "name": "python",
   "nbconvert_exporter": "python",
   "pygments_lexer": "ipython3",
   "version": "3.8.3"
  },
  "orig_nbformat": 4,
  "vscode": {
   "interpreter": {
    "hash": "f9ab51bc33436452f3b5f2e814446cb92329379584cbe4c50aa3680aa4b8afb0"
   }
  }
 },
 "nbformat": 4,
 "nbformat_minor": 2
}

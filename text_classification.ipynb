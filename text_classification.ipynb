{
 "cells": [
  {
   "cell_type": "code",
   "execution_count": 269,
   "metadata": {},
   "outputs": [
    {
     "name": "stderr",
     "output_type": "stream",
     "text": [
      "[nltk_data] Downloading package stopwords to\n",
      "[nltk_data]     C:\\Users\\mandi\\AppData\\Roaming\\nltk_data...\n",
      "[nltk_data]   Package stopwords is already up-to-date!\n"
     ]
    },
    {
     "data": {
      "text/plain": [
       "True"
      ]
     },
     "execution_count": 269,
     "metadata": {},
     "output_type": "execute_result"
    }
   ],
   "source": [
    "import pandas as pd\n",
    "import numpy as np\n",
    "import matplotlib.pyplot as plt \n",
    "from sklearn import metrics\n",
    "import nltk\n",
    "import os\n",
    "from nltk.corpus import stopwords\n",
    "from textblob import Word\n",
    "from sklearn.feature_extraction.text import TfidfVectorizer\n",
    "from sklearn.linear_model import SGDClassifier\n",
    "from sklearn.model_selection import GridSearchCV\n",
    "from sklearn.ensemble import RandomForestClassifier\n",
    "from sklearn.linear_model import LogisticRegression\n",
    "from sklearn.model_selection import train_test_split\n",
    "from sklearn.metrics import confusion_matrix\n",
    "from sklearn.decomposition import PCA\n",
    "from sklearn.metrics import classification_report\n",
    "nltk.download(\"stopwords\")"
   ]
  },
  {
   "cell_type": "code",
   "execution_count": 270,
   "metadata": {},
   "outputs": [
    {
     "data": {
      "text/html": [
       "<div>\n",
       "<style scoped>\n",
       "    .dataframe tbody tr th:only-of-type {\n",
       "        vertical-align: middle;\n",
       "    }\n",
       "\n",
       "    .dataframe tbody tr th {\n",
       "        vertical-align: top;\n",
       "    }\n",
       "\n",
       "    .dataframe thead th {\n",
       "        text-align: right;\n",
       "    }\n",
       "</style>\n",
       "<table border=\"1\" class=\"dataframe\">\n",
       "  <thead>\n",
       "    <tr style=\"text-align: right;\">\n",
       "      <th></th>\n",
       "      <th>Subject</th>\n",
       "      <th>Body</th>\n",
       "      <th>Categories</th>\n",
       "      <th>Importance</th>\n",
       "      <th>Sensitivity</th>\n",
       "    </tr>\n",
       "  </thead>\n",
       "  <tbody>\n",
       "    <tr>\n",
       "      <th>0</th>\n",
       "      <td>Welcome back email for Term 3 Freshmore</td>\n",
       "      <td>Dear Cohort 2 Students,\\n\\n \\n\\nWelcome back f...</td>\n",
       "      <td>NaN</td>\n",
       "      <td>Normal</td>\n",
       "      <td>Normal</td>\n",
       "    </tr>\n",
       "    <tr>\n",
       "      <th>1</th>\n",
       "      <td>SC06 Group 8 HOA1 Submission</td>\n",
       "      <td>Hi prof,\\r\\n\\r\\n               Attached  is ou...</td>\n",
       "      <td>NaN</td>\n",
       "      <td>Normal</td>\n",
       "      <td>Normal</td>\n",
       "    </tr>\n",
       "    <tr>\n",
       "      <th>2</th>\n",
       "      <td>🥋SUTD KARATE INTRO SESSION!!🥋</td>\n",
       "      <td>Hiya!\\n\\nReady to get a full body workout?!? P...</td>\n",
       "      <td>NaN</td>\n",
       "      <td>Normal</td>\n",
       "      <td>Normal</td>\n",
       "    </tr>\n",
       "    <tr>\n",
       "      <th>3</th>\n",
       "      <td>Register Now - SSIA Summit 2021 (30 Sept 2021)</td>\n",
       "      <td>Dear SUTD Community,\\r\\n\\r\\n \\r\\n\\r\\nYou are c...</td>\n",
       "      <td>NaN</td>\n",
       "      <td>Normal</td>\n",
       "      <td>Normal</td>\n",
       "    </tr>\n",
       "    <tr>\n",
       "      <th>4</th>\n",
       "      <td>HASS Minors Info Session</td>\n",
       "      <td>HAPPENING TODAY!\\r\\n\\r\\n \\r\\n\\r\\nDear Freshmor...</td>\n",
       "      <td>NaN</td>\n",
       "      <td>Normal</td>\n",
       "      <td>Normal</td>\n",
       "    </tr>\n",
       "  </tbody>\n",
       "</table>\n",
       "</div>"
      ],
      "text/plain": [
       "                                          Subject  \\\n",
       "0         Welcome back email for Term 3 Freshmore   \n",
       "1                    SC06 Group 8 HOA1 Submission   \n",
       "2                   🥋SUTD KARATE INTRO SESSION!!🥋   \n",
       "3  Register Now - SSIA Summit 2021 (30 Sept 2021)   \n",
       "4                        HASS Minors Info Session   \n",
       "\n",
       "                                                Body  Categories Importance  \\\n",
       "0  Dear Cohort 2 Students,\\n\\n \\n\\nWelcome back f...         NaN     Normal   \n",
       "1  Hi prof,\\r\\n\\r\\n               Attached  is ou...         NaN     Normal   \n",
       "2  Hiya!\\n\\nReady to get a full body workout?!? P...         NaN     Normal   \n",
       "3  Dear SUTD Community,\\r\\n\\r\\n \\r\\n\\r\\nYou are c...         NaN     Normal   \n",
       "4  HAPPENING TODAY!\\r\\n\\r\\n \\r\\n\\r\\nDear Freshmor...         NaN     Normal   \n",
       "\n",
       "  Sensitivity  \n",
       "0      Normal  \n",
       "1      Normal  \n",
       "2      Normal  \n",
       "3      Normal  \n",
       "4      Normal  "
      ]
     },
     "execution_count": 270,
     "metadata": {},
     "output_type": "execute_result"
    }
   ],
   "source": [
    "df = pd.read_csv(\"Outlook_mail.csv\")\n",
    "df.head()"
   ]
  },
  {
   "cell_type": "code",
   "execution_count": 271,
   "metadata": {},
   "outputs": [
    {
     "name": "stdout",
     "output_type": "stream",
     "text": [
      "0                Welcome back email for Term 3 Freshmore\n",
      "1                           SC06 Group 8 HOA1 Submission\n",
      "2                              SUTD KARATE INTRO SESSION\n",
      "3            Register Now  SSIA Summit 2021 30 Sept 2021\n",
      "4                               HASS Minors Info Session\n",
      "                             ...                        \n",
      "524    Natalie mentioned 10020 Data Driven World Fall...\n",
      "525    ProjectYOU 2021  BoldWork Juraseek Playground ...\n",
      "526    RE Update Postponement of Lazarus Island Dive ...\n",
      "527               Update Athletics Introduction Session \n",
      "528               Summary of coverage Highlights of SUTD\n",
      "Name: Subject, Length: 529, dtype: object\n"
     ]
    }
   ],
   "source": [
    "df['Body'] = df['Body'].apply(lambda x: x.lower())\n",
    "df['Body'] = df['Body'].str.replace(\"[^\\w\\s<>]\", \"\")\n",
    "df = df.replace(r'[^0-9a-zA-Z ]', '', regex=True).replace(\"'\", '')\n",
    "df['Body'] = df['Body'].apply(lambda x: \" \".join([Word(word).lemmatize() for word in x.split()]))\n",
    "stop = stopwords.words(\"english\") #remove useless words\n",
    "df['Body'] = df['Body'].apply(lambda x: \" \".join(x for x in x.split() if x not in stop))\n",
    "\n",
    "\n",
    "\n",
    "print(df['Subject'])"
   ]
  },
  {
   "cell_type": "code",
   "execution_count": 272,
   "metadata": {},
   "outputs": [
    {
     "name": "stdout",
     "output_type": "stream",
     "text": [
      "0      1\n",
      "1      1\n",
      "2      1\n",
      "3      1\n",
      "4      1\n",
      "      ..\n",
      "524    1\n",
      "525    1\n",
      "526    1\n",
      "527    1\n",
      "528    0\n",
      "Name: Importance, Length: 529, dtype: int64\n"
     ]
    }
   ],
   "source": [
    "X = df['Body']\n",
    "df['Importance'] = df['Importance'].str.replace(\"High\", \"1\")\n",
    "df['Importance'] = df['Importance'].str.replace(\"Normal\", \"1\")\n",
    "df['Importance'] = df['Importance'].fillna(0)\n",
    "y = pd.to_numeric(df['Importance'])\n",
    "\n",
    "\n",
    "print(y)"
   ]
  },
  {
   "cell_type": "code",
   "execution_count": 273,
   "metadata": {},
   "outputs": [],
   "source": [
    "X_train, X_test, y_train, y_test = train_test_split(X, y, random_state=101)"
   ]
  },
  {
   "cell_type": "code",
   "execution_count": 274,
   "metadata": {},
   "outputs": [],
   "source": [
    "# count every word/phrase and put it into a matrix\n",
    "vect = TfidfVectorizer(ngram_range=(1,3),\n",
    "                     min_df = 5,\n",
    "                     max_df = 0.4,\n",
    "                     token_pattern=u'(?ui)\\\\b\\\\w*[a-z]+\\\\w*[a-z]+\\\\w*\\\\b')\n",
    "vect.fit(X_train)\n",
    "X_train_dtm = vect.transform(X_train)\n",
    "X_test_dtm = vect.transform(X_test)"
   ]
  },
  {
   "cell_type": "code",
   "execution_count": 275,
   "metadata": {},
   "outputs": [],
   "source": [
    "# converting sparse matrices into dense matrices\n",
    "# replace empty spaces in the matrices with 0 (some sentences might not have a specific word)\n",
    "X_train_dense = pd.DataFrame(X_train_dtm.toarray(), columns = vect.get_feature_names())\n",
    "X_test_dense = pd.DataFrame(X_test_dtm.toarray(), columns = vect.get_feature_names())\n",
    "pca = PCA()\n",
    "X_train_pca = pca.fit_transform(X_train_dense)\n",
    "X_test_pca = pca.transform(X_test_dense)"
   ]
  },
  {
   "cell_type": "code",
   "execution_count": 276,
   "metadata": {},
   "outputs": [
    {
     "data": {
      "image/png": "[encoded data removed]",
      "text/plain": [
       "<Figure size 432x288 with 1 Axes>"
      ]
     },
     "metadata": {
      "needs_background": "light"
     },
     "output_type": "display_data"
    }
   ],
   "source": [
    "plt.plot(np.cumsum(pca.explained_variance_ratio_))\n",
    "plt.xlabel('Number of Components')\n",
    "plt.ylabel('Variance (%)') #for each component\n",
    "plt.show()"
   ]
  },
  {
   "cell_type": "code",
   "execution_count": 277,
   "metadata": {},
   "outputs": [],
   "source": [
    "pca = PCA(n_components = 200) # put a reasonable number from graph (70%-90%)\n",
    "X_train_pca = pca.fit_transform(X_train_dense)\n",
    "X_test_pca = pca.transform(X_test_dense)"
   ]
  },
  {
   "cell_type": "code",
   "execution_count": 278,
   "metadata": {},
   "outputs": [
    {
     "data": {
      "text/plain": [
       "57     1\n",
       "504    1\n",
       "267    1\n",
       "442    0\n",
       "69     1\n",
       "      ..\n",
       "316    1\n",
       "393    1\n",
       "75     1\n",
       "337    1\n",
       "523    1\n",
       "Name: Importance, Length: 396, dtype: int64"
      ]
     },
     "execution_count": 278,
     "metadata": {},
     "output_type": "execute_result"
    }
   ],
   "source": [
    "y_train"
   ]
  },
  {
   "cell_type": "code",
   "execution_count": 279,
   "metadata": {},
   "outputs": [
    {
     "data": {
      "text/plain": [
       "array([[-0.07084661,  0.18832046, -0.02892269, ..., -0.00925285,\n",
       "        -0.0263095 ,  0.0168122 ],\n",
       "       [-0.04499115, -0.0979012 ,  0.09531842, ..., -0.02478852,\n",
       "        -0.01531505, -0.00521714],\n",
       "       [ 0.06866406, -0.04264973,  0.23630996, ..., -0.07769126,\n",
       "         0.00074295,  0.0179292 ],\n",
       "       ...,\n",
       "       [-0.05412483,  0.11940273, -0.00682668, ..., -0.0351055 ,\n",
       "         0.02050049, -0.04950065],\n",
       "       [-0.01958647, -0.17482206,  0.06732452, ...,  0.01387475,\n",
       "        -0.00058578,  0.03284146],\n",
       "       [ 0.01854738, -0.05362277,  0.41790827, ..., -0.0285174 ,\n",
       "        -0.04897498, -0.02350316]])"
      ]
     },
     "execution_count": 279,
     "metadata": {},
     "output_type": "execute_result"
    }
   ],
   "source": [
    "X_train_pca"
   ]
  },
  {
   "cell_type": "code",
   "execution_count": 280,
   "metadata": {},
   "outputs": [
    {
     "name": "stdout",
     "output_type": "stream",
     "text": [
      "[[  0   3]\n",
      " [  0 130]]\n",
      "              precision    recall  f1-score   support\n",
      "\n",
      "           0       0.00      0.00      0.00         3\n",
      "           1       0.98      1.00      0.99       130\n",
      "\n",
      "    accuracy                           0.98       133\n",
      "   macro avg       0.49      0.50      0.49       133\n",
      "weighted avg       0.96      0.98      0.97       133\n",
      "\n"
     ]
    },
    {
     "name": "stderr",
     "output_type": "stream",
     "text": [
      "c:\\Users\\mandi\\anaconda3\\lib\\site-packages\\sklearn\\metrics\\_classification.py:1221: UndefinedMetricWarning: Precision and F-score are ill-defined and being set to 0.0 in labels with no predicted samples. Use `zero_division` parameter to control this behavior.\n",
      "  _warn_prf(average, modifier, msg_start, len(result))\n"
     ]
    }
   ],
   "source": [
    "from sklearn.ensemble import RandomForestClassifier\n",
    "rfc = RandomForestClassifier(n_estimators=200, criterion=\"entropy\", n_jobs=-1, random_state=0)\n",
    "rfc.fit(X_train_pca, y_train)\n",
    "predictions = rfc.predict(X_test_pca)\n",
    "print(confusion_matrix(y_test, predictions))\n",
    "print(classification_report(y_test, predictions))"
   ]
  },
  {
   "cell_type": "code",
   "execution_count": 281,
   "metadata": {},
   "outputs": [
    {
     "name": "stdout",
     "output_type": "stream",
     "text": [
      "Confusion Matrix : \n",
      " [[  0   3]\n",
      " [  0 130]]\n",
      "Accuracy : 0.9774436090225563\n",
      "Sensitivity : 0.0\n",
      "Specificity : 1.0\n"
     ]
    }
   ],
   "source": [
    "cm1 = confusion_matrix(y_test, predictions)\n",
    "print(\"Confusion Matrix : \\n\", cm1)\n",
    "total1 = sum(sum(cm1))\n",
    "\n",
    "accuracy1 = (cm1[0,0] + cm1[1,1])/total1\n",
    "print(\"Accuracy :\", accuracy1)\n",
    "\n",
    "sensitivity1 = cm1[0,0]/(cm1[0,0]+cm1[0,1])\n",
    "print(\"Sensitivity :\", sensitivity1)\n",
    "\n",
    "specificity1 = cm1[1,1]/(cm1[1,0]+cm1[1,1])\n",
    "print(\"Specificity :\", specificity1)"
   ]
  },
  {
   "cell_type": "code",
   "execution_count": 284,
   "metadata": {},
   "outputs": [],
   "source": [
    "from sklearn.neural_network import MLPClassifier\n",
    "mlp = MLPClassifier(hidden_layer_sizes=(10,5),max_iter=500)\n",
    "mlp.fit(X_train_pca,y_train)\n",
    "y_pred_class = mlp.predict(X_test_pca)"
   ]
  },
  {
   "cell_type": "code",
   "execution_count": 285,
   "metadata": {},
   "outputs": [
    {
     "name": "stdout",
     "output_type": "stream",
     "text": [
      "Confusion Matrix : \n",
      " [[  1   2]\n",
      " [  0 130]]\n",
      "Accuracy :  0.9849624060150376\n",
      "Sensitivity :  0.3333333333333333\n",
      "Specificity :  1.0\n"
     ]
    }
   ],
   "source": [
    "cm1 = confusion_matrix(y_test,y_pred_class)\n",
    "print('Confusion Matrix : \\n', cm1)\n",
    "\n",
    "total1=sum(sum(cm1))\n",
    "accuracy1=(cm1[0,0]+cm1[1,1])/total1\n",
    "print ('Accuracy : ', accuracy1)\n",
    "\n",
    "sensitivity1 = cm1[0,0]/(cm1[0,0]+cm1[0,1])\n",
    "print('Sensitivity : ', sensitivity1 )\n",
    "\n",
    "specificity1 = cm1[1,1]/(cm1[\n",
    "    \n",
    "    1,0]+cm1[1,1])\n",
    "print('Specificity : ', specificity1)"
   ]
  }
 ],
 "metadata": {
  "kernelspec": {
   "display_name": "Python 3.8.3 ('base')",
   "language": "python",
   "name": "python3"
  },
  "language_info": {
   "codemirror_mode": {
    "name": "ipython",
    "version": 3
   },
   "file_extension": ".py",
   "mimetype": "text/x-python",
   "name": "python",
   "nbconvert_exporter": "python",
   "pygments_lexer": "ipython3",
   "version": "3.8.3"
  },
  "orig_nbformat": 4,
  "vscode": {
   "interpreter": {
    "hash": "f9ab51bc33436452f3b5f2e814446cb92329379584cbe4c50aa3680aa4b8afb0"
   }
  }
 },
 "nbformat": 4,
 "nbformat_minor": 2
}
